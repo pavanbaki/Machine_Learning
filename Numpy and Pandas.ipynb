{
  "nbformat": 4,
  "nbformat_minor": 0,
  "metadata": {
    "colab": {
      "name": "Numpy.ipynb",
      "provenance": [],
      "collapsed_sections": [],
      "authorship_tag": "ABX9TyPvv2Iv9+QRxnCCChG2/pkm",
      "include_colab_link": true
    },
    "kernelspec": {
      "name": "python3",
      "display_name": "Python 3"
    },
    "language_info": {
      "name": "python"
    }
  },
  "cells": [
    {
      "cell_type": "markdown",
      "metadata": {
        "id": "view-in-github",
        "colab_type": "text"
      },
      "source": [
        "<a href=\"https://colab.research.google.com/github/pavanbaki/Machine_Learning/blob/main/Numpy%20and%20Pandas.ipynb\" target=\"_parent\"><img src=\"https://colab.research.google.com/assets/colab-badge.svg\" alt=\"Open In Colab\"/></a>"
      ]
    },
    {
      "cell_type": "code",
      "metadata": {
        "id": "abANBnaX2hEx"
      },
      "source": [
        ""
      ],
      "execution_count": null,
      "outputs": []
    },
    {
      "cell_type": "markdown",
      "metadata": {
        "id": "A7Pk_UoN2nxn"
      },
      "source": [
        "# Numpy"
      ]
    },
    {
      "cell_type": "code",
      "metadata": {
        "colab": {
          "base_uri": "https://localhost:8080/"
        },
        "id": "lXWsRw642sMp",
        "outputId": "64119e5d-4790-47c8-b6ca-6818cb2f3e7a"
      },
      "source": [
        "# Is for mathematical operations\n",
        "\n",
        "import numpy as np\n",
        "\n",
        "a = [1,2,3,4]\n",
        "\n",
        "arr1 = np.array(a)\n",
        "\n",
        "b=[[1,2,3,4],[5,6,7,8]]\n",
        "\n",
        "arr2 = np.array(b)\n",
        "\n",
        "print(arr1)\n",
        "print(arr2)"
      ],
      "execution_count": null,
      "outputs": [
        {
          "output_type": "stream",
          "text": [
            "[1 2 3 4]\n",
            "[[1 2 3 4]\n",
            " [5 6 7 8]]\n"
          ],
          "name": "stdout"
        }
      ]
    },
    {
      "cell_type": "code",
      "metadata": {
        "colab": {
          "base_uri": "https://localhost:8080/"
        },
        "id": "fx7NkfkZ2vhv",
        "outputId": "ac691dd1-f86e-408a-f1c4-f7e8e9d74f81"
      },
      "source": [
        "print(type(a),\n",
        "      type(arr1),\n",
        "      type(b),\n",
        "      type(arr2))"
      ],
      "execution_count": null,
      "outputs": [
        {
          "output_type": "stream",
          "text": [
            "<class 'list'> <class 'numpy.ndarray'> <class 'list'> <class 'numpy.ndarray'>\n"
          ],
          "name": "stdout"
        }
      ]
    },
    {
      "cell_type": "code",
      "metadata": {
        "colab": {
          "base_uri": "https://localhost:8080/"
        },
        "id": "j2Fg_ErF20xK",
        "outputId": "11bf84d6-af01-4549-f4fa-1fd5c65b8adf"
      },
      "source": [
        "import sys\n",
        "\n",
        "s= range(1000)\n",
        "\n",
        "print(\"Size of each element in the list in bytes\",sys.getsizeof(s))\n",
        "\n",
        "print(\"complete list size in bytes\",sys.getsizeof(s) * len(s))"
      ],
      "execution_count": null,
      "outputs": [
        {
          "output_type": "stream",
          "text": [
            "Size of each element in the list in bytes 48\n",
            "complete list size in bytes 48000\n"
          ],
          "name": "stdout"
        }
      ]
    },
    {
      "cell_type": "code",
      "metadata": {
        "colab": {
          "base_uri": "https://localhost:8080/"
        },
        "id": "0qE5VjOM25bD",
        "outputId": "6faefdc1-8b0d-4bb2-c3f1-5cce6d79f98b"
      },
      "source": [
        "# we are checking comparission between numpy size and normal size of \"sys\" packages\n",
        "\n",
        "import numpy as np\n",
        "\n",
        "s = np.arange(1000)\n",
        "\n",
        "print(\"Size of each element in the list in bytes\",s.itemsize)\n",
        "\n",
        "print(\"Complete size in bytes \",s.size *s.itemsize)"
      ],
      "execution_count": null,
      "outputs": [
        {
          "output_type": "stream",
          "text": [
            "Size of each element in the list in bytes 8\n",
            "Complete size in bytes  8000\n"
          ],
          "name": "stdout"
        }
      ]
    },
    {
      "cell_type": "code",
      "metadata": {
        "colab": {
          "base_uri": "https://localhost:8080/"
        },
        "id": "8K6xqQZy3BmJ",
        "outputId": "65020622-9ad6-4866-cc1e-68d9c72f7749"
      },
      "source": [
        "# import time library and make excution time taking by the system\n",
        "\n",
        "import time\n",
        "\n",
        "a=range(1000) #[0-999]\n",
        "\n",
        "b=range(1000) #[0-999]\n",
        "\n",
        "start = time.time()\n",
        "ab = [(a * b) for a , b in zip(a,b)] # list compression\n",
        "\n",
        "# creating a concised form of complete list and for loop or any other conditions statements\n",
        "\n",
        "end = time.time()\n",
        "\n",
        "print(\"Total time taken\",end-start)"
      ],
      "execution_count": null,
      "outputs": [
        {
          "output_type": "stream",
          "text": [
            "Total time taken 0.00035262107849121094\n"
          ],
          "name": "stdout"
        }
      ]
    },
    {
      "cell_type": "code",
      "metadata": {
        "colab": {
          "base_uri": "https://localhost:8080/"
        },
        "id": "PqJPjPd13GNJ",
        "outputId": "8e75c187-71a3-4f2b-8cab-1791a86739ee"
      },
      "source": [
        "import numpy\n",
        "import time\n",
        "\n",
        "arr1 = np.arange(1000)\n",
        "arr2 = np.arange(1000)\n",
        "\n",
        "start = time.time()\n",
        "\n",
        "arr_mul = arr1 * arr2\n",
        "\n",
        "end =time.time()\n",
        "print(\"Total time taken \",end-start)\n"
      ],
      "execution_count": null,
      "outputs": [
        {
          "output_type": "stream",
          "text": [
            "Total time taken  7.963180541992188e-05\n"
          ],
          "name": "stdout"
        }
      ]
    },
    {
      "cell_type": "code",
      "metadata": {
        "colab": {
          "base_uri": "https://localhost:8080/"
        },
        "id": "3LMIY40z3MSB",
        "outputId": "8d5e1b4f-eb4b-4a18-f108-57d25f46a0a4"
      },
      "source": [
        "lst = [1,2,3]\n",
        "arr= np.array(lst)\n",
        "\n",
        "print(arr)"
      ],
      "execution_count": null,
      "outputs": [
        {
          "output_type": "stream",
          "text": [
            "[1 2 3]\n"
          ],
          "name": "stdout"
        }
      ]
    },
    {
      "cell_type": "code",
      "metadata": {
        "colab": {
          "base_uri": "https://localhost:8080/",
          "height": 163
        },
        "id": "K8TIvq053VSv",
        "outputId": "7aeee110-bec6-458f-adc9-28011bd63665"
      },
      "source": [
        "print(last + 1 )"
      ],
      "execution_count": null,
      "outputs": [
        {
          "output_type": "error",
          "ename": "NameError",
          "evalue": "ignored",
          "traceback": [
            "\u001b[0;31m---------------------------------------------------------------------------\u001b[0m",
            "\u001b[0;31mNameError\u001b[0m                                 Traceback (most recent call last)",
            "\u001b[0;32m<ipython-input-12-4fee7562dfa7>\u001b[0m in \u001b[0;36m<module>\u001b[0;34m()\u001b[0m\n\u001b[0;32m----> 1\u001b[0;31m \u001b[0mprint\u001b[0m\u001b[0;34m(\u001b[0m\u001b[0mlast\u001b[0m \u001b[0;34m+\u001b[0m \u001b[0;36m1\u001b[0m \u001b[0;34m)\u001b[0m\u001b[0;34m\u001b[0m\u001b[0;34m\u001b[0m\u001b[0m\n\u001b[0m",
            "\u001b[0;31mNameError\u001b[0m: name 'last' is not defined"
          ]
        }
      ]
    },
    {
      "cell_type": "code",
      "metadata": {
        "colab": {
          "base_uri": "https://localhost:8080/"
        },
        "id": "ypnL0f643ZlM",
        "outputId": "979160ff-952a-4e30-aa69-ab64109c0f15"
      },
      "source": [
        "print(arr +1)"
      ],
      "execution_count": null,
      "outputs": [
        {
          "output_type": "stream",
          "text": [
            "[2 3 4]\n"
          ],
          "name": "stdout"
        }
      ]
    },
    {
      "cell_type": "code",
      "metadata": {
        "colab": {
          "base_uri": "https://localhost:8080/"
        },
        "id": "3zh0Ljrz3ciI",
        "outputId": "668ab58d-47bd-4bf3-a2e1-585f105866d9"
      },
      "source": [
        "arr1 =np.array([[1,2,3,4],[5,6,7,8]],ndmin = 2)\n",
        "print(arr1)"
      ],
      "execution_count": null,
      "outputs": [
        {
          "output_type": "stream",
          "text": [
            "[[1 2 3 4]\n",
            " [5 6 7 8]]\n"
          ],
          "name": "stdout"
        }
      ]
    },
    {
      "cell_type": "code",
      "metadata": {
        "id": "t01kLozt3fpz",
        "colab": {
          "base_uri": "https://localhost:8080/"
        },
        "outputId": "ecdcfad9-7d27-4242-983e-ad381088855d"
      },
      "source": [
        "import numpy as np\n",
        "\n",
        "arr1 = np.array([1,2,3])\n",
        "\n",
        "print(arr1)"
      ],
      "execution_count": null,
      "outputs": [
        {
          "output_type": "stream",
          "text": [
            "[1 2 3]\n"
          ],
          "name": "stdout"
        }
      ]
    },
    {
      "cell_type": "code",
      "metadata": {
        "colab": {
          "base_uri": "https://localhost:8080/"
        },
        "id": "jXFOU6pD8u6N",
        "outputId": "3a4fdbc5-3f5d-4e2e-ca00-f05070cb0101"
      },
      "source": [
        "type(arr1)"
      ],
      "execution_count": null,
      "outputs": [
        {
          "output_type": "execute_result",
          "data": {
            "text/plain": [
              "numpy.ndarray"
            ]
          },
          "metadata": {
            "tags": []
          },
          "execution_count": 5
        }
      ]
    },
    {
      "cell_type": "code",
      "metadata": {
        "colab": {
          "base_uri": "https://localhost:8080/"
        },
        "id": "3tIxtADA8zBV",
        "outputId": "eed8f54e-98e5-409c-972c-0adb92176316"
      },
      "source": [
        "arr2 = np.zeros([2,2])\n",
        "\n",
        "print(arr2)"
      ],
      "execution_count": null,
      "outputs": [
        {
          "output_type": "stream",
          "text": [
            "[[0. 0.]\n",
            " [0. 0.]]\n"
          ],
          "name": "stdout"
        }
      ]
    },
    {
      "cell_type": "code",
      "metadata": {
        "colab": {
          "base_uri": "https://localhost:8080/"
        },
        "id": "D70Opfky9F0G",
        "outputId": "125edf95-d97b-45e0-a09d-db391010ee02"
      },
      "source": [
        "lst1 = [1,2,3,4.52,True,False,2+3j,\"Codegnan\"]\n",
        "\n",
        "print(lst1)"
      ],
      "execution_count": null,
      "outputs": [
        {
          "output_type": "stream",
          "text": [
            "[1, 2, 3, 4.52, True, False, (2+3j), 'Codegnan']\n"
          ],
          "name": "stdout"
        }
      ]
    },
    {
      "cell_type": "code",
      "metadata": {
        "colab": {
          "base_uri": "https://localhost:8080/"
        },
        "id": "arfvJfxN95z8",
        "outputId": "c91d7607-7fbc-4f84-ed8f-e416694e6c5e"
      },
      "source": [
        "type(lst1)"
      ],
      "execution_count": null,
      "outputs": [
        {
          "output_type": "execute_result",
          "data": {
            "text/plain": [
              "list"
            ]
          },
          "metadata": {
            "tags": []
          },
          "execution_count": 9
        }
      ]
    },
    {
      "cell_type": "code",
      "metadata": {
        "id": "to0OO9U69-PY"
      },
      "source": [
        "# 4 differenct type of data structures in python \n",
        "\n",
        "# list - []\n",
        "#Typle -()\n",
        "#Dictionary - {Key - Value}\n",
        "#Set - {Numerical values and unique variables}"
      ],
      "execution_count": null,
      "outputs": []
    },
    {
      "cell_type": "code",
      "metadata": {
        "colab": {
          "base_uri": "https://localhost:8080/"
        },
        "id": "ewdKfaAU-pdE",
        "outputId": "340c54a7-dbb4-49fb-eab4-fa800e4b3efd"
      },
      "source": [
        "# Create an n-dimessional array\n",
        "\n",
        "a = [[1,2,3],[4,5,6]]\n",
        "print(a)"
      ],
      "execution_count": null,
      "outputs": [
        {
          "output_type": "stream",
          "text": [
            "[[1, 2, 3], [4, 5, 6]]\n"
          ],
          "name": "stdout"
        }
      ]
    },
    {
      "cell_type": "code",
      "metadata": {
        "colab": {
          "base_uri": "https://localhost:8080/"
        },
        "id": "bTsUfJBU_Kjh",
        "outputId": "047b397b-ad78-43b4-c1fd-207c6b95d69c"
      },
      "source": [
        "import numpy as np\n",
        "\n",
        "np.array(a,ndmin=10)"
      ],
      "execution_count": null,
      "outputs": [
        {
          "output_type": "execute_result",
          "data": {
            "text/plain": [
              "array([[[[[[[[[[1, 2, 3],\n",
              "               [4, 5, 6]]]]]]]]]])"
            ]
          },
          "metadata": {
            "tags": []
          },
          "execution_count": 13
        }
      ]
    },
    {
      "cell_type": "code",
      "metadata": {
        "id": "eENDnOqV_Un0",
        "colab": {
          "base_uri": "https://localhost:8080/"
        },
        "outputId": "afa8c526-8b43-4961-81ec-e1dab9293366"
      },
      "source": [
        "arr = np.array([[1,2,3],\n",
        "                [4,5,6],\n",
        "                [7,8,9]])\n",
        "\n",
        "print(arr)"
      ],
      "execution_count": 14,
      "outputs": [
        {
          "output_type": "stream",
          "text": [
            "[[1 2 3]\n",
            " [4 5 6]\n",
            " [7 8 9]]\n"
          ],
          "name": "stdout"
        }
      ]
    },
    {
      "cell_type": "code",
      "metadata": {
        "colab": {
          "base_uri": "https://localhost:8080/"
        },
        "id": "QuMmuOp_AH-T",
        "outputId": "75f096d7-f892-4d99-e7dd-c186f39d5871"
      },
      "source": [
        "arr[2,0]"
      ],
      "execution_count": 15,
      "outputs": [
        {
          "output_type": "execute_result",
          "data": {
            "text/plain": [
              "7"
            ]
          },
          "metadata": {
            "tags": []
          },
          "execution_count": 15
        }
      ]
    },
    {
      "cell_type": "code",
      "metadata": {
        "colab": {
          "base_uri": "https://localhost:8080/",
          "height": 163
        },
        "id": "KhBdfcs8AgzO",
        "outputId": "7ec6f1c2-bfb8-422d-d3a4-a7ea7ff6bf5a"
      },
      "source": [
        "arr[3,0]"
      ],
      "execution_count": 16,
      "outputs": [
        {
          "output_type": "error",
          "ename": "IndexError",
          "evalue": "ignored",
          "traceback": [
            "\u001b[0;31m---------------------------------------------------------------------------\u001b[0m",
            "\u001b[0;31mIndexError\u001b[0m                                Traceback (most recent call last)",
            "\u001b[0;32m<ipython-input-16-c69fc7229c50>\u001b[0m in \u001b[0;36m<module>\u001b[0;34m()\u001b[0m\n\u001b[0;32m----> 1\u001b[0;31m \u001b[0marr\u001b[0m\u001b[0;34m[\u001b[0m\u001b[0;36m3\u001b[0m\u001b[0;34m,\u001b[0m\u001b[0;36m0\u001b[0m\u001b[0;34m]\u001b[0m\u001b[0;34m\u001b[0m\u001b[0;34m\u001b[0m\u001b[0m\n\u001b[0m",
            "\u001b[0;31mIndexError\u001b[0m: index 3 is out of bounds for axis 0 with size 3"
          ]
        }
      ]
    },
    {
      "cell_type": "code",
      "metadata": {
        "colab": {
          "base_uri": "https://localhost:8080/",
          "height": 163
        },
        "id": "XgpOLYWFAjBx",
        "outputId": "43bb7e10-872d-4d24-dc56-1cae2bcbe119"
      },
      "source": [
        "np.arange(2,2,0)"
      ],
      "execution_count": 18,
      "outputs": [
        {
          "output_type": "error",
          "ename": "ZeroDivisionError",
          "evalue": "ignored",
          "traceback": [
            "\u001b[0;31m---------------------------------------------------------------------------\u001b[0m",
            "\u001b[0;31mZeroDivisionError\u001b[0m                         Traceback (most recent call last)",
            "\u001b[0;32m<ipython-input-18-1ef4be738fe1>\u001b[0m in \u001b[0;36m<module>\u001b[0;34m()\u001b[0m\n\u001b[0;32m----> 1\u001b[0;31m \u001b[0mnp\u001b[0m\u001b[0;34m.\u001b[0m\u001b[0marange\u001b[0m\u001b[0;34m(\u001b[0m\u001b[0;36m2\u001b[0m\u001b[0;34m,\u001b[0m\u001b[0;36m2\u001b[0m\u001b[0;34m,\u001b[0m\u001b[0;36m0\u001b[0m\u001b[0;34m)\u001b[0m\u001b[0;34m\u001b[0m\u001b[0;34m\u001b[0m\u001b[0m\n\u001b[0m",
            "\u001b[0;31mZeroDivisionError\u001b[0m: division by zero"
          ]
        }
      ]
    },
    {
      "cell_type": "code",
      "metadata": {
        "id": "VogePly9BOwV"
      },
      "source": [
        "#Numpy - Is for mathematical operations. Like creating and manipulating arrays and numbers\n",
        "\n",
        "# Pandas - Is the data handling mechanism and tool. Which can handle the datasets to process into models"
      ],
      "execution_count": 19,
      "outputs": []
    },
    {
      "cell_type": "code",
      "metadata": {
        "colab": {
          "base_uri": "https://localhost:8080/"
        },
        "id": "Cxe0DdreBegI",
        "outputId": "83ed94cc-b5e0-4be8-eff7-5bba3766d73f"
      },
      "source": [
        "np.random.rand(3,2)"
      ],
      "execution_count": 21,
      "outputs": [
        {
          "output_type": "execute_result",
          "data": {
            "text/plain": [
              "array([[0.91661907, 0.69987021],\n",
              "       [0.39459303, 0.6331838 ],\n",
              "       [0.56170162, 0.86709798]])"
            ]
          },
          "metadata": {
            "tags": []
          },
          "execution_count": 21
        }
      ]
    },
    {
      "cell_type": "code",
      "metadata": {
        "colab": {
          "base_uri": "https://localhost:8080/"
        },
        "id": "R96c8J13Bp2e",
        "outputId": "1f08246a-736b-4528-b234-2d663f25388e"
      },
      "source": [
        "arr1 = np.random.rand(3,2)\n",
        "\n",
        "arr2 = np.random.rand(3,2)\n",
        "\n",
        "sum1 = np.add(arr1,arr2)\n",
        "\n",
        "print(arr1)\n",
        "print(arr2)\n",
        "print(sum1)"
      ],
      "execution_count": 23,
      "outputs": [
        {
          "output_type": "stream",
          "text": [
            "[[0.42279156 0.95771089]\n",
            " [0.58431853 0.35047784]\n",
            " [0.44909211 0.5709748 ]]\n",
            "[[0.85751517 0.51615709]\n",
            " [0.7898181  0.37566809]\n",
            " [0.25537759 0.23266874]]\n",
            "[[1.28030672 1.47386797]\n",
            " [1.37413663 0.72614592]\n",
            " [0.7044697  0.80364354]]\n"
          ],
          "name": "stdout"
        }
      ]
    },
    {
      "cell_type": "code",
      "metadata": {
        "colab": {
          "base_uri": "https://localhost:8080/"
        },
        "id": "qOGO-eh6CTNF",
        "outputId": "c600ced4-aa1f-4998-9540-c127c737a2de"
      },
      "source": [
        "sub1 = np.subtract(arr1,arr2)\n",
        "\n",
        "print(sub1)"
      ],
      "execution_count": 25,
      "outputs": [
        {
          "output_type": "stream",
          "text": [
            "[[-0.43472361  0.4415538 ]\n",
            " [-0.20549957 -0.02519025]\n",
            " [ 0.19371452  0.33830605]]\n"
          ],
          "name": "stdout"
        }
      ]
    },
    {
      "cell_type": "code",
      "metadata": {
        "colab": {
          "base_uri": "https://localhost:8080/",
          "height": 35
        },
        "id": "ZT45XTkWDAVV",
        "outputId": "0367021c-e1fa-4d00-bd6a-4e6b9059c5e2"
      },
      "source": [
        "# indexing and slicing\n",
        "\n",
        "a = [1,2,3,7,20.5,\"codegnan\",True]\n",
        "\n",
        "a[5]"
      ],
      "execution_count": 29,
      "outputs": [
        {
          "output_type": "execute_result",
          "data": {
            "application/vnd.google.colaboratory.intrinsic+json": {
              "type": "string"
            },
            "text/plain": [
              "'codegnan'"
            ]
          },
          "metadata": {
            "tags": []
          },
          "execution_count": 29
        }
      ]
    },
    {
      "cell_type": "code",
      "metadata": {
        "colab": {
          "base_uri": "https://localhost:8080/"
        },
        "id": "EVB6zL4pDbCF",
        "outputId": "8405cfca-b7a5-450e-c892-cee082835d66"
      },
      "source": [
        "#slicing  = [start : end+1]\n",
        "\n",
        "a[0:6]\n"
      ],
      "execution_count": 30,
      "outputs": [
        {
          "output_type": "execute_result",
          "data": {
            "text/plain": [
              "[1, 2, 3, 7, 20.5, 'codegnan']"
            ]
          },
          "metadata": {
            "tags": []
          },
          "execution_count": 30
        }
      ]
    },
    {
      "cell_type": "code",
      "metadata": {
        "colab": {
          "base_uri": "https://localhost:8080/"
        },
        "id": "qMCW547eHUai",
        "outputId": "3c84a2c4-c778-4994-e6e5-4e0989fe83b6"
      },
      "source": [
        "a[-1]"
      ],
      "execution_count": 31,
      "outputs": [
        {
          "output_type": "execute_result",
          "data": {
            "text/plain": [
              "True"
            ]
          },
          "metadata": {
            "tags": []
          },
          "execution_count": 31
        }
      ]
    },
    {
      "cell_type": "code",
      "metadata": {
        "colab": {
          "base_uri": "https://localhost:8080/"
        },
        "id": "zMJc-kCIHYJa",
        "outputId": "d5293311-2303-4762-a4cc-2bacde8717f8"
      },
      "source": [
        "a[-3]"
      ],
      "execution_count": 32,
      "outputs": [
        {
          "output_type": "execute_result",
          "data": {
            "text/plain": [
              "20.5"
            ]
          },
          "metadata": {
            "tags": []
          },
          "execution_count": 32
        }
      ]
    },
    {
      "cell_type": "code",
      "metadata": {
        "colab": {
          "base_uri": "https://localhost:8080/"
        },
        "id": "ipVLi3EFHbAn",
        "outputId": "8b6d6360-f289-42e2-ff30-1c28f1c17bc8"
      },
      "source": [
        "a[:5]"
      ],
      "execution_count": 33,
      "outputs": [
        {
          "output_type": "execute_result",
          "data": {
            "text/plain": [
              "[1, 2, 3, 7, 20.5]"
            ]
          },
          "metadata": {
            "tags": []
          },
          "execution_count": 33
        }
      ]
    },
    {
      "cell_type": "code",
      "metadata": {
        "colab": {
          "base_uri": "https://localhost:8080/"
        },
        "id": "rTQjRzH1HfSi",
        "outputId": "8a32b5c6-bb8f-4459-b738-579c81c947e1"
      },
      "source": [
        "a[:-1]"
      ],
      "execution_count": 34,
      "outputs": [
        {
          "output_type": "execute_result",
          "data": {
            "text/plain": [
              "[1, 2, 3, 7, 20.5, 'codegnan']"
            ]
          },
          "metadata": {
            "tags": []
          },
          "execution_count": 34
        }
      ]
    },
    {
      "cell_type": "code",
      "metadata": {
        "colab": {
          "base_uri": "https://localhost:8080/"
        },
        "id": "-diUz5wOHlLo",
        "outputId": "fc93bf6f-fd97-4734-801f-8321808dc783"
      },
      "source": [
        "a[-6:-1]"
      ],
      "execution_count": 35,
      "outputs": [
        {
          "output_type": "execute_result",
          "data": {
            "text/plain": [
              "[2, 3, 7, 20.5, 'codegnan']"
            ]
          },
          "metadata": {
            "tags": []
          },
          "execution_count": 35
        }
      ]
    },
    {
      "cell_type": "code",
      "metadata": {
        "colab": {
          "base_uri": "https://localhost:8080/"
        },
        "id": "kutnjKLJHyMr",
        "outputId": "f07cbc96-14f6-4b92-af94-a73b9a83e0dd"
      },
      "source": [
        "a = [1,2,3,7,20.5,\"codegnan\",True,1,2,3,7,20.5,\"codegnan\",True,1,2,3,7,20.5,\"codegnan\",True,1,2,3,7,20.5,\"codegnan\",True,]\n",
        "\n",
        "a[0:10:2]"
      ],
      "execution_count": 36,
      "outputs": [
        {
          "output_type": "execute_result",
          "data": {
            "text/plain": [
              "[1, 3, 20.5, True, 2]"
            ]
          },
          "metadata": {
            "tags": []
          },
          "execution_count": 36
        }
      ]
    },
    {
      "cell_type": "code",
      "metadata": {
        "id": "k47MPAw6IY7i"
      },
      "source": [
        "a.reverse()"
      ],
      "execution_count": 41,
      "outputs": []
    },
    {
      "cell_type": "code",
      "metadata": {
        "colab": {
          "base_uri": "https://localhost:8080/"
        },
        "id": "4UyV2tzSI8dA",
        "outputId": "4363c719-d479-44ee-b58e-c0d0615320e3"
      },
      "source": [
        "a"
      ],
      "execution_count": 42,
      "outputs": [
        {
          "output_type": "execute_result",
          "data": {
            "text/plain": [
              "[True,\n",
              " 'codegnan',\n",
              " 20.5,\n",
              " 7,\n",
              " 3,\n",
              " 2,\n",
              " 1,\n",
              " True,\n",
              " 'codegnan',\n",
              " 20.5,\n",
              " 7,\n",
              " 3,\n",
              " 2,\n",
              " 1,\n",
              " True,\n",
              " 'codegnan',\n",
              " 20.5,\n",
              " 7,\n",
              " 3,\n",
              " 2,\n",
              " 1,\n",
              " True,\n",
              " 'codegnan',\n",
              " 20.5,\n",
              " 7,\n",
              " 3,\n",
              " 2,\n",
              " 1]"
            ]
          },
          "metadata": {
            "tags": []
          },
          "execution_count": 42
        }
      ]
    },
    {
      "cell_type": "code",
      "metadata": {
        "colab": {
          "base_uri": "https://localhost:8080/"
        },
        "id": "oe1drZ3lJIwk",
        "outputId": "d387b626-b8b8-483a-fbbe-f1d90b9d902a"
      },
      "source": [
        "#The skip value will take start and end+1 variables and we are skipping values in between\n",
        "a = [1,2,5,7,20.5,\"Codegnan\", True,1,2,5,7,20.5,\"Codegnan\", True,1,2,5,7,20.5,\"Codegnan\", True]\n",
        "\n",
        "a[0:10:3]"
      ],
      "execution_count": 43,
      "outputs": [
        {
          "output_type": "execute_result",
          "data": {
            "text/plain": [
              "[1, 7, True, 5]"
            ]
          },
          "metadata": {
            "tags": []
          },
          "execution_count": 43
        }
      ]
    },
    {
      "cell_type": "code",
      "metadata": {
        "colab": {
          "base_uri": "https://localhost:8080/"
        },
        "id": "oExNFtn4JZ3V",
        "outputId": "9d49a0a2-af45-4f3b-fe4f-26130ef4396c"
      },
      "source": [
        "# reshape an array\n",
        "\n",
        "arr2 = np.array([[1,2,3,4],\n",
        "         [5,6,7,8]])\n",
        "arr2"
      ],
      "execution_count": 48,
      "outputs": [
        {
          "output_type": "execute_result",
          "data": {
            "text/plain": [
              "array([[1, 2, 3, 4],\n",
              "       [5, 6, 7, 8]])"
            ]
          },
          "metadata": {
            "tags": []
          },
          "execution_count": 48
        }
      ]
    },
    {
      "cell_type": "code",
      "metadata": {
        "colab": {
          "base_uri": "https://localhost:8080/"
        },
        "id": "xPGGL4WKKEf7",
        "outputId": "8d4f102e-1899-4f3b-d5d8-1033208dbb30"
      },
      "source": [
        "arr2.shape"
      ],
      "execution_count": 49,
      "outputs": [
        {
          "output_type": "execute_result",
          "data": {
            "text/plain": [
              "(2, 4)"
            ]
          },
          "metadata": {
            "tags": []
          },
          "execution_count": 49
        }
      ]
    },
    {
      "cell_type": "code",
      "metadata": {
        "colab": {
          "base_uri": "https://localhost:8080/"
        },
        "id": "A8mrzYrIKM84",
        "outputId": "3373a48a-15bc-4992-c551-ed71b197ac0a"
      },
      "source": [
        "arr2.reshape(1,8)"
      ],
      "execution_count": 50,
      "outputs": [
        {
          "output_type": "execute_result",
          "data": {
            "text/plain": [
              "array([[1, 2, 3, 4, 5, 6, 7, 8]])"
            ]
          },
          "metadata": {
            "tags": []
          },
          "execution_count": 50
        }
      ]
    },
    {
      "cell_type": "code",
      "metadata": {
        "id": "LPmexAYzKgN_"
      },
      "source": [
        ""
      ],
      "execution_count": null,
      "outputs": []
    },
    {
      "cell_type": "markdown",
      "metadata": {
        "id": "kGOPZizUKsXl"
      },
      "source": [
        "# Pandas - Data Handling mechanism. We need to upload a dataset and get the link to read the dataset"
      ]
    },
    {
      "cell_type": "code",
      "metadata": {
        "id": "Qbovh374KvUW"
      },
      "source": [
        "import pandas as pd"
      ],
      "execution_count": 51,
      "outputs": []
    },
    {
      "cell_type": "code",
      "metadata": {
        "id": "y8JDfNXfLxvK"
      },
      "source": [
        "#Read the dataset using pandas\n",
        "\n",
        "# We have a function read_csv() to read any csv file\n",
        "\n",
        "# CSV - Commo Seperate Values\n",
        "\n",
        "\n",
        "#We have plenty number of file reading mechanisms in pandas\n",
        "\n",
        "# we can read excel sheet, database files with different reading formats\n",
        "\n",
        "data = pd.read_csv(\"/content/ipl_matches.csv\")\n"
      ],
      "execution_count": 52,
      "outputs": []
    },
    {
      "cell_type": "code",
      "metadata": {
        "colab": {
          "base_uri": "https://localhost:8080/",
          "height": 445
        },
        "id": "XaWUVEQ4MZ0F",
        "outputId": "9e7b36e9-e288-4543-ea35-1a20d48e670a"
      },
      "source": [
        "data.head()"
      ],
      "execution_count": 53,
      "outputs": [
        {
          "output_type": "execute_result",
          "data": {
            "text/html": [
              "<div>\n",
              "<style scoped>\n",
              "    .dataframe tbody tr th:only-of-type {\n",
              "        vertical-align: middle;\n",
              "    }\n",
              "\n",
              "    .dataframe tbody tr th {\n",
              "        vertical-align: top;\n",
              "    }\n",
              "\n",
              "    .dataframe thead th {\n",
              "        text-align: right;\n",
              "    }\n",
              "</style>\n",
              "<table border=\"1\" class=\"dataframe\">\n",
              "  <thead>\n",
              "    <tr style=\"text-align: right;\">\n",
              "      <th></th>\n",
              "      <th>id</th>\n",
              "      <th>season</th>\n",
              "      <th>city</th>\n",
              "      <th>date</th>\n",
              "      <th>team1</th>\n",
              "      <th>team2</th>\n",
              "      <th>toss_winner</th>\n",
              "      <th>toss_decision</th>\n",
              "      <th>result</th>\n",
              "      <th>dl_applied</th>\n",
              "      <th>winner</th>\n",
              "      <th>win_by_runs</th>\n",
              "      <th>win_by_wickets</th>\n",
              "      <th>player_of_match</th>\n",
              "      <th>venue</th>\n",
              "      <th>umpire1</th>\n",
              "      <th>umpire2</th>\n",
              "      <th>umpire3</th>\n",
              "    </tr>\n",
              "  </thead>\n",
              "  <tbody>\n",
              "    <tr>\n",
              "      <th>0</th>\n",
              "      <td>1</td>\n",
              "      <td>2017</td>\n",
              "      <td>Hyderabad</td>\n",
              "      <td>2017-04-05</td>\n",
              "      <td>Sunrisers Hyderabad</td>\n",
              "      <td>Royal Challengers Bangalore</td>\n",
              "      <td>Royal Challengers Bangalore</td>\n",
              "      <td>field</td>\n",
              "      <td>normal</td>\n",
              "      <td>0</td>\n",
              "      <td>Sunrisers Hyderabad</td>\n",
              "      <td>35</td>\n",
              "      <td>0</td>\n",
              "      <td>Yuvraj Singh</td>\n",
              "      <td>Rajiv Gandhi International Stadium, Uppal</td>\n",
              "      <td>AY Dandekar</td>\n",
              "      <td>NJ Llong</td>\n",
              "      <td>NaN</td>\n",
              "    </tr>\n",
              "    <tr>\n",
              "      <th>1</th>\n",
              "      <td>2</td>\n",
              "      <td>2017</td>\n",
              "      <td>Pune</td>\n",
              "      <td>2017-04-06</td>\n",
              "      <td>Mumbai Indians</td>\n",
              "      <td>Rising Pune Supergiant</td>\n",
              "      <td>Rising Pune Supergiant</td>\n",
              "      <td>field</td>\n",
              "      <td>normal</td>\n",
              "      <td>0</td>\n",
              "      <td>Rising Pune Supergiant</td>\n",
              "      <td>0</td>\n",
              "      <td>7</td>\n",
              "      <td>SPD Smith</td>\n",
              "      <td>Maharashtra Cricket Association Stadium</td>\n",
              "      <td>A Nand Kishore</td>\n",
              "      <td>S Ravi</td>\n",
              "      <td>NaN</td>\n",
              "    </tr>\n",
              "    <tr>\n",
              "      <th>2</th>\n",
              "      <td>3</td>\n",
              "      <td>2017</td>\n",
              "      <td>Rajkot</td>\n",
              "      <td>2017-04-07</td>\n",
              "      <td>Gujarat Lions</td>\n",
              "      <td>Kolkata Knight Riders</td>\n",
              "      <td>Kolkata Knight Riders</td>\n",
              "      <td>field</td>\n",
              "      <td>normal</td>\n",
              "      <td>0</td>\n",
              "      <td>Kolkata Knight Riders</td>\n",
              "      <td>0</td>\n",
              "      <td>10</td>\n",
              "      <td>CA Lynn</td>\n",
              "      <td>Saurashtra Cricket Association Stadium</td>\n",
              "      <td>Nitin Menon</td>\n",
              "      <td>CK Nandan</td>\n",
              "      <td>NaN</td>\n",
              "    </tr>\n",
              "    <tr>\n",
              "      <th>3</th>\n",
              "      <td>4</td>\n",
              "      <td>2017</td>\n",
              "      <td>Indore</td>\n",
              "      <td>2017-04-08</td>\n",
              "      <td>Rising Pune Supergiant</td>\n",
              "      <td>Kings XI Punjab</td>\n",
              "      <td>Kings XI Punjab</td>\n",
              "      <td>field</td>\n",
              "      <td>normal</td>\n",
              "      <td>0</td>\n",
              "      <td>Kings XI Punjab</td>\n",
              "      <td>0</td>\n",
              "      <td>6</td>\n",
              "      <td>GJ Maxwell</td>\n",
              "      <td>Holkar Cricket Stadium</td>\n",
              "      <td>AK Chaudhary</td>\n",
              "      <td>C Shamshuddin</td>\n",
              "      <td>NaN</td>\n",
              "    </tr>\n",
              "    <tr>\n",
              "      <th>4</th>\n",
              "      <td>5</td>\n",
              "      <td>2017</td>\n",
              "      <td>Bangalore</td>\n",
              "      <td>2017-04-08</td>\n",
              "      <td>Royal Challengers Bangalore</td>\n",
              "      <td>Delhi Daredevils</td>\n",
              "      <td>Royal Challengers Bangalore</td>\n",
              "      <td>bat</td>\n",
              "      <td>normal</td>\n",
              "      <td>0</td>\n",
              "      <td>Royal Challengers Bangalore</td>\n",
              "      <td>15</td>\n",
              "      <td>0</td>\n",
              "      <td>KM Jadhav</td>\n",
              "      <td>M Chinnaswamy Stadium</td>\n",
              "      <td>NaN</td>\n",
              "      <td>NaN</td>\n",
              "      <td>NaN</td>\n",
              "    </tr>\n",
              "  </tbody>\n",
              "</table>\n",
              "</div>"
            ],
            "text/plain": [
              "   id  season       city  ...         umpire1        umpire2 umpire3\n",
              "0   1    2017  Hyderabad  ...     AY Dandekar       NJ Llong     NaN\n",
              "1   2    2017       Pune  ...  A Nand Kishore         S Ravi     NaN\n",
              "2   3    2017     Rajkot  ...     Nitin Menon      CK Nandan     NaN\n",
              "3   4    2017     Indore  ...    AK Chaudhary  C Shamshuddin     NaN\n",
              "4   5    2017  Bangalore  ...             NaN            NaN     NaN\n",
              "\n",
              "[5 rows x 18 columns]"
            ]
          },
          "metadata": {
            "tags": []
          },
          "execution_count": 53
        }
      ]
    },
    {
      "cell_type": "code",
      "metadata": {
        "colab": {
          "base_uri": "https://localhost:8080/",
          "height": 411
        },
        "id": "HM-J6uQ_Mf6O",
        "outputId": "1d2c6ccc-4c5a-4571-94e3-ec047cf2832e"
      },
      "source": [
        "# If you want to retrieve last 5 or last 10 rows. Then use tail() function\n",
        "\n",
        "data.tail()"
      ],
      "execution_count": 54,
      "outputs": [
        {
          "output_type": "execute_result",
          "data": {
            "text/html": [
              "<div>\n",
              "<style scoped>\n",
              "    .dataframe tbody tr th:only-of-type {\n",
              "        vertical-align: middle;\n",
              "    }\n",
              "\n",
              "    .dataframe tbody tr th {\n",
              "        vertical-align: top;\n",
              "    }\n",
              "\n",
              "    .dataframe thead th {\n",
              "        text-align: right;\n",
              "    }\n",
              "</style>\n",
              "<table border=\"1\" class=\"dataframe\">\n",
              "  <thead>\n",
              "    <tr style=\"text-align: right;\">\n",
              "      <th></th>\n",
              "      <th>id</th>\n",
              "      <th>season</th>\n",
              "      <th>city</th>\n",
              "      <th>date</th>\n",
              "      <th>team1</th>\n",
              "      <th>team2</th>\n",
              "      <th>toss_winner</th>\n",
              "      <th>toss_decision</th>\n",
              "      <th>result</th>\n",
              "      <th>dl_applied</th>\n",
              "      <th>winner</th>\n",
              "      <th>win_by_runs</th>\n",
              "      <th>win_by_wickets</th>\n",
              "      <th>player_of_match</th>\n",
              "      <th>venue</th>\n",
              "      <th>umpire1</th>\n",
              "      <th>umpire2</th>\n",
              "      <th>umpire3</th>\n",
              "    </tr>\n",
              "  </thead>\n",
              "  <tbody>\n",
              "    <tr>\n",
              "      <th>631</th>\n",
              "      <td>632</td>\n",
              "      <td>2016</td>\n",
              "      <td>Raipur</td>\n",
              "      <td>2016-05-22</td>\n",
              "      <td>Delhi Daredevils</td>\n",
              "      <td>Royal Challengers Bangalore</td>\n",
              "      <td>Royal Challengers Bangalore</td>\n",
              "      <td>field</td>\n",
              "      <td>normal</td>\n",
              "      <td>0</td>\n",
              "      <td>Royal Challengers Bangalore</td>\n",
              "      <td>0</td>\n",
              "      <td>6</td>\n",
              "      <td>V Kohli</td>\n",
              "      <td>Shaheed Veer Narayan Singh International Stadium</td>\n",
              "      <td>A Nand Kishore</td>\n",
              "      <td>BNJ Oxenford</td>\n",
              "      <td>NaN</td>\n",
              "    </tr>\n",
              "    <tr>\n",
              "      <th>632</th>\n",
              "      <td>633</td>\n",
              "      <td>2016</td>\n",
              "      <td>Bangalore</td>\n",
              "      <td>2016-05-24</td>\n",
              "      <td>Gujarat Lions</td>\n",
              "      <td>Royal Challengers Bangalore</td>\n",
              "      <td>Royal Challengers Bangalore</td>\n",
              "      <td>field</td>\n",
              "      <td>normal</td>\n",
              "      <td>0</td>\n",
              "      <td>Royal Challengers Bangalore</td>\n",
              "      <td>0</td>\n",
              "      <td>4</td>\n",
              "      <td>AB de Villiers</td>\n",
              "      <td>M Chinnaswamy Stadium</td>\n",
              "      <td>AK Chaudhary</td>\n",
              "      <td>HDPK Dharmasena</td>\n",
              "      <td>NaN</td>\n",
              "    </tr>\n",
              "    <tr>\n",
              "      <th>633</th>\n",
              "      <td>634</td>\n",
              "      <td>2016</td>\n",
              "      <td>Delhi</td>\n",
              "      <td>2016-05-25</td>\n",
              "      <td>Sunrisers Hyderabad</td>\n",
              "      <td>Kolkata Knight Riders</td>\n",
              "      <td>Kolkata Knight Riders</td>\n",
              "      <td>field</td>\n",
              "      <td>normal</td>\n",
              "      <td>0</td>\n",
              "      <td>Sunrisers Hyderabad</td>\n",
              "      <td>22</td>\n",
              "      <td>0</td>\n",
              "      <td>MC Henriques</td>\n",
              "      <td>Feroz Shah Kotla</td>\n",
              "      <td>M Erasmus</td>\n",
              "      <td>C Shamshuddin</td>\n",
              "      <td>NaN</td>\n",
              "    </tr>\n",
              "    <tr>\n",
              "      <th>634</th>\n",
              "      <td>635</td>\n",
              "      <td>2016</td>\n",
              "      <td>Delhi</td>\n",
              "      <td>2016-05-27</td>\n",
              "      <td>Gujarat Lions</td>\n",
              "      <td>Sunrisers Hyderabad</td>\n",
              "      <td>Sunrisers Hyderabad</td>\n",
              "      <td>field</td>\n",
              "      <td>normal</td>\n",
              "      <td>0</td>\n",
              "      <td>Sunrisers Hyderabad</td>\n",
              "      <td>0</td>\n",
              "      <td>4</td>\n",
              "      <td>DA Warner</td>\n",
              "      <td>Feroz Shah Kotla</td>\n",
              "      <td>M Erasmus</td>\n",
              "      <td>CK Nandan</td>\n",
              "      <td>NaN</td>\n",
              "    </tr>\n",
              "    <tr>\n",
              "      <th>635</th>\n",
              "      <td>636</td>\n",
              "      <td>2016</td>\n",
              "      <td>Bangalore</td>\n",
              "      <td>2016-05-29</td>\n",
              "      <td>Sunrisers Hyderabad</td>\n",
              "      <td>Royal Challengers Bangalore</td>\n",
              "      <td>Sunrisers Hyderabad</td>\n",
              "      <td>bat</td>\n",
              "      <td>normal</td>\n",
              "      <td>0</td>\n",
              "      <td>Sunrisers Hyderabad</td>\n",
              "      <td>8</td>\n",
              "      <td>0</td>\n",
              "      <td>BCJ Cutting</td>\n",
              "      <td>M Chinnaswamy Stadium</td>\n",
              "      <td>HDPK Dharmasena</td>\n",
              "      <td>BNJ Oxenford</td>\n",
              "      <td>NaN</td>\n",
              "    </tr>\n",
              "  </tbody>\n",
              "</table>\n",
              "</div>"
            ],
            "text/plain": [
              "      id  season       city  ...          umpire1          umpire2 umpire3\n",
              "631  632    2016     Raipur  ...   A Nand Kishore     BNJ Oxenford     NaN\n",
              "632  633    2016  Bangalore  ...     AK Chaudhary  HDPK Dharmasena     NaN\n",
              "633  634    2016      Delhi  ...        M Erasmus    C Shamshuddin     NaN\n",
              "634  635    2016      Delhi  ...        M Erasmus        CK Nandan     NaN\n",
              "635  636    2016  Bangalore  ...  HDPK Dharmasena     BNJ Oxenford     NaN\n",
              "\n",
              "[5 rows x 18 columns]"
            ]
          },
          "metadata": {
            "tags": []
          },
          "execution_count": 54
        }
      ]
    },
    {
      "cell_type": "code",
      "metadata": {
        "colab": {
          "base_uri": "https://localhost:8080/",
          "height": 787
        },
        "id": "Ah1GZt_iM3DZ",
        "outputId": "c8de361f-1f11-4add-b146-600642bd9b8d"
      },
      "source": [
        "data.tail(10)"
      ],
      "execution_count": 55,
      "outputs": [
        {
          "output_type": "execute_result",
          "data": {
            "text/html": [
              "<div>\n",
              "<style scoped>\n",
              "    .dataframe tbody tr th:only-of-type {\n",
              "        vertical-align: middle;\n",
              "    }\n",
              "\n",
              "    .dataframe tbody tr th {\n",
              "        vertical-align: top;\n",
              "    }\n",
              "\n",
              "    .dataframe thead th {\n",
              "        text-align: right;\n",
              "    }\n",
              "</style>\n",
              "<table border=\"1\" class=\"dataframe\">\n",
              "  <thead>\n",
              "    <tr style=\"text-align: right;\">\n",
              "      <th></th>\n",
              "      <th>id</th>\n",
              "      <th>season</th>\n",
              "      <th>city</th>\n",
              "      <th>date</th>\n",
              "      <th>team1</th>\n",
              "      <th>team2</th>\n",
              "      <th>toss_winner</th>\n",
              "      <th>toss_decision</th>\n",
              "      <th>result</th>\n",
              "      <th>dl_applied</th>\n",
              "      <th>winner</th>\n",
              "      <th>win_by_runs</th>\n",
              "      <th>win_by_wickets</th>\n",
              "      <th>player_of_match</th>\n",
              "      <th>venue</th>\n",
              "      <th>umpire1</th>\n",
              "      <th>umpire2</th>\n",
              "      <th>umpire3</th>\n",
              "    </tr>\n",
              "  </thead>\n",
              "  <tbody>\n",
              "    <tr>\n",
              "      <th>626</th>\n",
              "      <td>627</td>\n",
              "      <td>2016</td>\n",
              "      <td>Kanpur</td>\n",
              "      <td>2016-05-19</td>\n",
              "      <td>Kolkata Knight Riders</td>\n",
              "      <td>Gujarat Lions</td>\n",
              "      <td>Gujarat Lions</td>\n",
              "      <td>field</td>\n",
              "      <td>normal</td>\n",
              "      <td>0</td>\n",
              "      <td>Gujarat Lions</td>\n",
              "      <td>0</td>\n",
              "      <td>6</td>\n",
              "      <td>DR Smith</td>\n",
              "      <td>Green Park</td>\n",
              "      <td>AK Chaudhary</td>\n",
              "      <td>CK Nandan</td>\n",
              "      <td>NaN</td>\n",
              "    </tr>\n",
              "    <tr>\n",
              "      <th>627</th>\n",
              "      <td>628</td>\n",
              "      <td>2016</td>\n",
              "      <td>Raipur</td>\n",
              "      <td>2016-05-20</td>\n",
              "      <td>Sunrisers Hyderabad</td>\n",
              "      <td>Delhi Daredevils</td>\n",
              "      <td>Delhi Daredevils</td>\n",
              "      <td>field</td>\n",
              "      <td>normal</td>\n",
              "      <td>0</td>\n",
              "      <td>Delhi Daredevils</td>\n",
              "      <td>0</td>\n",
              "      <td>6</td>\n",
              "      <td>KK Nair</td>\n",
              "      <td>Shaheed Veer Narayan Singh International Stadium</td>\n",
              "      <td>A Nand Kishore</td>\n",
              "      <td>BNJ Oxenford</td>\n",
              "      <td>NaN</td>\n",
              "    </tr>\n",
              "    <tr>\n",
              "      <th>628</th>\n",
              "      <td>629</td>\n",
              "      <td>2016</td>\n",
              "      <td>Visakhapatnam</td>\n",
              "      <td>2016-05-21</td>\n",
              "      <td>Kings XI Punjab</td>\n",
              "      <td>Rising Pune Supergiants</td>\n",
              "      <td>Kings XI Punjab</td>\n",
              "      <td>bat</td>\n",
              "      <td>normal</td>\n",
              "      <td>0</td>\n",
              "      <td>Rising Pune Supergiants</td>\n",
              "      <td>0</td>\n",
              "      <td>4</td>\n",
              "      <td>MS Dhoni</td>\n",
              "      <td>Dr. Y.S. Rajasekhara Reddy ACA-VDCA Cricket St...</td>\n",
              "      <td>HDPK Dharmasena</td>\n",
              "      <td>Nitin Menon</td>\n",
              "      <td>NaN</td>\n",
              "    </tr>\n",
              "    <tr>\n",
              "      <th>629</th>\n",
              "      <td>630</td>\n",
              "      <td>2016</td>\n",
              "      <td>Kanpur</td>\n",
              "      <td>2016-05-21</td>\n",
              "      <td>Mumbai Indians</td>\n",
              "      <td>Gujarat Lions</td>\n",
              "      <td>Gujarat Lions</td>\n",
              "      <td>field</td>\n",
              "      <td>normal</td>\n",
              "      <td>0</td>\n",
              "      <td>Gujarat Lions</td>\n",
              "      <td>0</td>\n",
              "      <td>6</td>\n",
              "      <td>SK Raina</td>\n",
              "      <td>Green Park</td>\n",
              "      <td>AK Chaudhary</td>\n",
              "      <td>CK Nandan</td>\n",
              "      <td>NaN</td>\n",
              "    </tr>\n",
              "    <tr>\n",
              "      <th>630</th>\n",
              "      <td>631</td>\n",
              "      <td>2016</td>\n",
              "      <td>Kolkata</td>\n",
              "      <td>2016-05-22</td>\n",
              "      <td>Kolkata Knight Riders</td>\n",
              "      <td>Sunrisers Hyderabad</td>\n",
              "      <td>Sunrisers Hyderabad</td>\n",
              "      <td>field</td>\n",
              "      <td>normal</td>\n",
              "      <td>0</td>\n",
              "      <td>Kolkata Knight Riders</td>\n",
              "      <td>22</td>\n",
              "      <td>0</td>\n",
              "      <td>YK Pathan</td>\n",
              "      <td>Eden Gardens</td>\n",
              "      <td>KN Ananthapadmanabhan</td>\n",
              "      <td>M Erasmus</td>\n",
              "      <td>NaN</td>\n",
              "    </tr>\n",
              "    <tr>\n",
              "      <th>631</th>\n",
              "      <td>632</td>\n",
              "      <td>2016</td>\n",
              "      <td>Raipur</td>\n",
              "      <td>2016-05-22</td>\n",
              "      <td>Delhi Daredevils</td>\n",
              "      <td>Royal Challengers Bangalore</td>\n",
              "      <td>Royal Challengers Bangalore</td>\n",
              "      <td>field</td>\n",
              "      <td>normal</td>\n",
              "      <td>0</td>\n",
              "      <td>Royal Challengers Bangalore</td>\n",
              "      <td>0</td>\n",
              "      <td>6</td>\n",
              "      <td>V Kohli</td>\n",
              "      <td>Shaheed Veer Narayan Singh International Stadium</td>\n",
              "      <td>A Nand Kishore</td>\n",
              "      <td>BNJ Oxenford</td>\n",
              "      <td>NaN</td>\n",
              "    </tr>\n",
              "    <tr>\n",
              "      <th>632</th>\n",
              "      <td>633</td>\n",
              "      <td>2016</td>\n",
              "      <td>Bangalore</td>\n",
              "      <td>2016-05-24</td>\n",
              "      <td>Gujarat Lions</td>\n",
              "      <td>Royal Challengers Bangalore</td>\n",
              "      <td>Royal Challengers Bangalore</td>\n",
              "      <td>field</td>\n",
              "      <td>normal</td>\n",
              "      <td>0</td>\n",
              "      <td>Royal Challengers Bangalore</td>\n",
              "      <td>0</td>\n",
              "      <td>4</td>\n",
              "      <td>AB de Villiers</td>\n",
              "      <td>M Chinnaswamy Stadium</td>\n",
              "      <td>AK Chaudhary</td>\n",
              "      <td>HDPK Dharmasena</td>\n",
              "      <td>NaN</td>\n",
              "    </tr>\n",
              "    <tr>\n",
              "      <th>633</th>\n",
              "      <td>634</td>\n",
              "      <td>2016</td>\n",
              "      <td>Delhi</td>\n",
              "      <td>2016-05-25</td>\n",
              "      <td>Sunrisers Hyderabad</td>\n",
              "      <td>Kolkata Knight Riders</td>\n",
              "      <td>Kolkata Knight Riders</td>\n",
              "      <td>field</td>\n",
              "      <td>normal</td>\n",
              "      <td>0</td>\n",
              "      <td>Sunrisers Hyderabad</td>\n",
              "      <td>22</td>\n",
              "      <td>0</td>\n",
              "      <td>MC Henriques</td>\n",
              "      <td>Feroz Shah Kotla</td>\n",
              "      <td>M Erasmus</td>\n",
              "      <td>C Shamshuddin</td>\n",
              "      <td>NaN</td>\n",
              "    </tr>\n",
              "    <tr>\n",
              "      <th>634</th>\n",
              "      <td>635</td>\n",
              "      <td>2016</td>\n",
              "      <td>Delhi</td>\n",
              "      <td>2016-05-27</td>\n",
              "      <td>Gujarat Lions</td>\n",
              "      <td>Sunrisers Hyderabad</td>\n",
              "      <td>Sunrisers Hyderabad</td>\n",
              "      <td>field</td>\n",
              "      <td>normal</td>\n",
              "      <td>0</td>\n",
              "      <td>Sunrisers Hyderabad</td>\n",
              "      <td>0</td>\n",
              "      <td>4</td>\n",
              "      <td>DA Warner</td>\n",
              "      <td>Feroz Shah Kotla</td>\n",
              "      <td>M Erasmus</td>\n",
              "      <td>CK Nandan</td>\n",
              "      <td>NaN</td>\n",
              "    </tr>\n",
              "    <tr>\n",
              "      <th>635</th>\n",
              "      <td>636</td>\n",
              "      <td>2016</td>\n",
              "      <td>Bangalore</td>\n",
              "      <td>2016-05-29</td>\n",
              "      <td>Sunrisers Hyderabad</td>\n",
              "      <td>Royal Challengers Bangalore</td>\n",
              "      <td>Sunrisers Hyderabad</td>\n",
              "      <td>bat</td>\n",
              "      <td>normal</td>\n",
              "      <td>0</td>\n",
              "      <td>Sunrisers Hyderabad</td>\n",
              "      <td>8</td>\n",
              "      <td>0</td>\n",
              "      <td>BCJ Cutting</td>\n",
              "      <td>M Chinnaswamy Stadium</td>\n",
              "      <td>HDPK Dharmasena</td>\n",
              "      <td>BNJ Oxenford</td>\n",
              "      <td>NaN</td>\n",
              "    </tr>\n",
              "  </tbody>\n",
              "</table>\n",
              "</div>"
            ],
            "text/plain": [
              "      id  season  ...          umpire2 umpire3\n",
              "626  627    2016  ...        CK Nandan     NaN\n",
              "627  628    2016  ...     BNJ Oxenford     NaN\n",
              "628  629    2016  ...      Nitin Menon     NaN\n",
              "629  630    2016  ...        CK Nandan     NaN\n",
              "630  631    2016  ...        M Erasmus     NaN\n",
              "631  632    2016  ...     BNJ Oxenford     NaN\n",
              "632  633    2016  ...  HDPK Dharmasena     NaN\n",
              "633  634    2016  ...    C Shamshuddin     NaN\n",
              "634  635    2016  ...        CK Nandan     NaN\n",
              "635  636    2016  ...     BNJ Oxenford     NaN\n",
              "\n",
              "[10 rows x 18 columns]"
            ]
          },
          "metadata": {
            "tags": []
          },
          "execution_count": 55
        }
      ]
    },
    {
      "cell_type": "code",
      "metadata": {
        "colab": {
          "base_uri": "https://localhost:8080/"
        },
        "id": "m65quqc2M8ha",
        "outputId": "2cfbcc9a-a56a-426e-abe2-d805884cc7e6"
      },
      "source": [
        "# check the shape \n",
        "data.shape"
      ],
      "execution_count": 56,
      "outputs": [
        {
          "output_type": "execute_result",
          "data": {
            "text/plain": [
              "(636, 18)"
            ]
          },
          "metadata": {
            "tags": []
          },
          "execution_count": 56
        }
      ]
    },
    {
      "cell_type": "code",
      "metadata": {
        "colab": {
          "base_uri": "https://localhost:8080/"
        },
        "id": "6YJxbMtmNLjS",
        "outputId": "3f36a269-ee6b-45a1-bb9a-7aa5fffea5f3"
      },
      "source": [
        "data.info() # information regading the dataset"
      ],
      "execution_count": 57,
      "outputs": [
        {
          "output_type": "stream",
          "text": [
            "<class 'pandas.core.frame.DataFrame'>\n",
            "RangeIndex: 636 entries, 0 to 635\n",
            "Data columns (total 18 columns):\n",
            " #   Column           Non-Null Count  Dtype  \n",
            "---  ------           --------------  -----  \n",
            " 0   id               636 non-null    int64  \n",
            " 1   season           636 non-null    int64  \n",
            " 2   city             629 non-null    object \n",
            " 3   date             636 non-null    object \n",
            " 4   team1            636 non-null    object \n",
            " 5   team2            636 non-null    object \n",
            " 6   toss_winner      636 non-null    object \n",
            " 7   toss_decision    636 non-null    object \n",
            " 8   result           636 non-null    object \n",
            " 9   dl_applied       636 non-null    int64  \n",
            " 10  winner           633 non-null    object \n",
            " 11  win_by_runs      636 non-null    int64  \n",
            " 12  win_by_wickets   636 non-null    int64  \n",
            " 13  player_of_match  633 non-null    object \n",
            " 14  venue            636 non-null    object \n",
            " 15  umpire1          635 non-null    object \n",
            " 16  umpire2          635 non-null    object \n",
            " 17  umpire3          0 non-null      float64\n",
            "dtypes: float64(1), int64(5), object(12)\n",
            "memory usage: 89.6+ KB\n"
          ],
          "name": "stdout"
        }
      ]
    },
    {
      "cell_type": "code",
      "metadata": {
        "colab": {
          "base_uri": "https://localhost:8080/",
          "height": 297
        },
        "id": "E8aI4eIiNVEY",
        "outputId": "6e201263-bcde-49b4-db0e-0f4825d2bfad"
      },
      "source": [
        "# description od this dataset\n",
        "\n",
        "data.describe()"
      ],
      "execution_count": 59,
      "outputs": [
        {
          "output_type": "execute_result",
          "data": {
            "text/html": [
              "<div>\n",
              "<style scoped>\n",
              "    .dataframe tbody tr th:only-of-type {\n",
              "        vertical-align: middle;\n",
              "    }\n",
              "\n",
              "    .dataframe tbody tr th {\n",
              "        vertical-align: top;\n",
              "    }\n",
              "\n",
              "    .dataframe thead th {\n",
              "        text-align: right;\n",
              "    }\n",
              "</style>\n",
              "<table border=\"1\" class=\"dataframe\">\n",
              "  <thead>\n",
              "    <tr style=\"text-align: right;\">\n",
              "      <th></th>\n",
              "      <th>id</th>\n",
              "      <th>season</th>\n",
              "      <th>dl_applied</th>\n",
              "      <th>win_by_runs</th>\n",
              "      <th>win_by_wickets</th>\n",
              "      <th>umpire3</th>\n",
              "    </tr>\n",
              "  </thead>\n",
              "  <tbody>\n",
              "    <tr>\n",
              "      <th>count</th>\n",
              "      <td>636.000000</td>\n",
              "      <td>636.000000</td>\n",
              "      <td>636.000000</td>\n",
              "      <td>636.000000</td>\n",
              "      <td>636.000000</td>\n",
              "      <td>0.0</td>\n",
              "    </tr>\n",
              "    <tr>\n",
              "      <th>mean</th>\n",
              "      <td>318.500000</td>\n",
              "      <td>2012.490566</td>\n",
              "      <td>0.025157</td>\n",
              "      <td>13.682390</td>\n",
              "      <td>3.372642</td>\n",
              "      <td>NaN</td>\n",
              "    </tr>\n",
              "    <tr>\n",
              "      <th>std</th>\n",
              "      <td>183.741666</td>\n",
              "      <td>2.773026</td>\n",
              "      <td>0.156726</td>\n",
              "      <td>23.908877</td>\n",
              "      <td>3.420338</td>\n",
              "      <td>NaN</td>\n",
              "    </tr>\n",
              "    <tr>\n",
              "      <th>min</th>\n",
              "      <td>1.000000</td>\n",
              "      <td>2008.000000</td>\n",
              "      <td>0.000000</td>\n",
              "      <td>0.000000</td>\n",
              "      <td>0.000000</td>\n",
              "      <td>NaN</td>\n",
              "    </tr>\n",
              "    <tr>\n",
              "      <th>25%</th>\n",
              "      <td>159.750000</td>\n",
              "      <td>2010.000000</td>\n",
              "      <td>0.000000</td>\n",
              "      <td>0.000000</td>\n",
              "      <td>0.000000</td>\n",
              "      <td>NaN</td>\n",
              "    </tr>\n",
              "    <tr>\n",
              "      <th>50%</th>\n",
              "      <td>318.500000</td>\n",
              "      <td>2012.000000</td>\n",
              "      <td>0.000000</td>\n",
              "      <td>0.000000</td>\n",
              "      <td>4.000000</td>\n",
              "      <td>NaN</td>\n",
              "    </tr>\n",
              "    <tr>\n",
              "      <th>75%</th>\n",
              "      <td>477.250000</td>\n",
              "      <td>2015.000000</td>\n",
              "      <td>0.000000</td>\n",
              "      <td>20.000000</td>\n",
              "      <td>7.000000</td>\n",
              "      <td>NaN</td>\n",
              "    </tr>\n",
              "    <tr>\n",
              "      <th>max</th>\n",
              "      <td>636.000000</td>\n",
              "      <td>2017.000000</td>\n",
              "      <td>1.000000</td>\n",
              "      <td>146.000000</td>\n",
              "      <td>10.000000</td>\n",
              "      <td>NaN</td>\n",
              "    </tr>\n",
              "  </tbody>\n",
              "</table>\n",
              "</div>"
            ],
            "text/plain": [
              "               id       season  ...  win_by_wickets  umpire3\n",
              "count  636.000000   636.000000  ...      636.000000      0.0\n",
              "mean   318.500000  2012.490566  ...        3.372642      NaN\n",
              "std    183.741666     2.773026  ...        3.420338      NaN\n",
              "min      1.000000  2008.000000  ...        0.000000      NaN\n",
              "25%    159.750000  2010.000000  ...        0.000000      NaN\n",
              "50%    318.500000  2012.000000  ...        4.000000      NaN\n",
              "75%    477.250000  2015.000000  ...        7.000000      NaN\n",
              "max    636.000000  2017.000000  ...       10.000000      NaN\n",
              "\n",
              "[8 rows x 6 columns]"
            ]
          },
          "metadata": {
            "tags": []
          },
          "execution_count": 59
        }
      ]
    },
    {
      "cell_type": "code",
      "metadata": {
        "id": "ricZupzMNyYg"
      },
      "source": [
        "#We are using html parser to access data from a webpage and read the content in that web page\n",
        "\n",
        "web = pd.read_html(\"https://en.wikipedia.org/wiki/States_and_union_territories_of_India\")[3]"
      ],
      "execution_count": 63,
      "outputs": []
    },
    {
      "cell_type": "code",
      "metadata": {
        "colab": {
          "base_uri": "https://localhost:8080/",
          "height": 411
        },
        "id": "HSAba5vDPOV7",
        "outputId": "dc908db8-fbff-4234-ab5b-db572db1ea21"
      },
      "source": [
        "web.head()"
      ],
      "execution_count": 64,
      "outputs": [
        {
          "output_type": "execute_result",
          "data": {
            "text/html": [
              "<div>\n",
              "<style scoped>\n",
              "    .dataframe tbody tr th:only-of-type {\n",
              "        vertical-align: middle;\n",
              "    }\n",
              "\n",
              "    .dataframe tbody tr th {\n",
              "        vertical-align: top;\n",
              "    }\n",
              "\n",
              "    .dataframe thead th {\n",
              "        text-align: right;\n",
              "    }\n",
              "</style>\n",
              "<table border=\"1\" class=\"dataframe\">\n",
              "  <thead>\n",
              "    <tr style=\"text-align: right;\">\n",
              "      <th></th>\n",
              "      <th>State</th>\n",
              "      <th>ISO 3166-2:IN</th>\n",
              "      <th>Vehiclecode</th>\n",
              "      <th>Zone</th>\n",
              "      <th>Capital</th>\n",
              "      <th>Largest city</th>\n",
              "      <th>Statehood</th>\n",
              "      <th>Population(census 2011)[citation needed]</th>\n",
              "      <th>Area(km2)</th>\n",
              "      <th>Officiallanguages[39]</th>\n",
              "      <th>Additional officiallanguages[39]</th>\n",
              "    </tr>\n",
              "  </thead>\n",
              "  <tbody>\n",
              "    <tr>\n",
              "      <th>0</th>\n",
              "      <td>Andhra Pradesh</td>\n",
              "      <td>IN-AP</td>\n",
              "      <td>AP</td>\n",
              "      <td>Southern</td>\n",
              "      <td>Visakhapatnam (Administrative)[40]Amaravati (L...</td>\n",
              "      <td>Visakhapatnam</td>\n",
              "      <td>1 November 1956</td>\n",
              "      <td>49506799</td>\n",
              "      <td>160205</td>\n",
              "      <td>Telugu</td>\n",
              "      <td>—</td>\n",
              "    </tr>\n",
              "    <tr>\n",
              "      <th>1</th>\n",
              "      <td>Arunachal Pradesh</td>\n",
              "      <td>IN-AR</td>\n",
              "      <td>AR</td>\n",
              "      <td>North-Eastern</td>\n",
              "      <td>Itanagar</td>\n",
              "      <td>Itanagar</td>\n",
              "      <td>20 February 1987</td>\n",
              "      <td>1383727</td>\n",
              "      <td>83743</td>\n",
              "      <td>English</td>\n",
              "      <td>—</td>\n",
              "    </tr>\n",
              "    <tr>\n",
              "      <th>2</th>\n",
              "      <td>Assam</td>\n",
              "      <td>IN-AS</td>\n",
              "      <td>AS</td>\n",
              "      <td>North-Eastern</td>\n",
              "      <td>Dispur</td>\n",
              "      <td>Guwahati</td>\n",
              "      <td>26 January 1950</td>\n",
              "      <td>31205576</td>\n",
              "      <td>78550</td>\n",
              "      <td>Assamese</td>\n",
              "      <td>Bengali, Bodo</td>\n",
              "    </tr>\n",
              "    <tr>\n",
              "      <th>3</th>\n",
              "      <td>Bihar</td>\n",
              "      <td>IN-BR</td>\n",
              "      <td>BR</td>\n",
              "      <td>Eastern</td>\n",
              "      <td>Patna</td>\n",
              "      <td>Patna</td>\n",
              "      <td>26 January 1950</td>\n",
              "      <td>104099452</td>\n",
              "      <td>94163</td>\n",
              "      <td>Hindi</td>\n",
              "      <td>Urdu</td>\n",
              "    </tr>\n",
              "    <tr>\n",
              "      <th>4</th>\n",
              "      <td>Chhattisgarh</td>\n",
              "      <td>IN-CT</td>\n",
              "      <td>CG</td>\n",
              "      <td>Central</td>\n",
              "      <td>Nava Raipur</td>\n",
              "      <td>Raipur</td>\n",
              "      <td>1 November 2000</td>\n",
              "      <td>25545198</td>\n",
              "      <td>135194</td>\n",
              "      <td>Hindi</td>\n",
              "      <td>Chhattisgarhi</td>\n",
              "    </tr>\n",
              "  </tbody>\n",
              "</table>\n",
              "</div>"
            ],
            "text/plain": [
              "               State  ... Additional officiallanguages[39]\n",
              "0     Andhra Pradesh  ...                                —\n",
              "1  Arunachal Pradesh  ...                                —\n",
              "2              Assam  ...                    Bengali, Bodo\n",
              "3              Bihar  ...                             Urdu\n",
              "4       Chhattisgarh  ...                    Chhattisgarhi\n",
              "\n",
              "[5 rows x 11 columns]"
            ]
          },
          "metadata": {
            "tags": []
          },
          "execution_count": 64
        }
      ]
    },
    {
      "cell_type": "code",
      "metadata": {
        "id": "qxEYYAZoPZ7B"
      },
      "source": [
        "excel = pd.read_excel(\"/content/ex1.xlsx\")"
      ],
      "execution_count": 66,
      "outputs": []
    },
    {
      "cell_type": "code",
      "metadata": {
        "colab": {
          "base_uri": "https://localhost:8080/",
          "height": 1000
        },
        "id": "7DlrBS3YQnMp",
        "outputId": "99262b54-f7b3-4e4c-b904-c464a3b324cb"
      },
      "source": [
        "web "
      ],
      "execution_count": 67,
      "outputs": [
        {
          "output_type": "execute_result",
          "data": {
            "text/html": [
              "<div>\n",
              "<style scoped>\n",
              "    .dataframe tbody tr th:only-of-type {\n",
              "        vertical-align: middle;\n",
              "    }\n",
              "\n",
              "    .dataframe tbody tr th {\n",
              "        vertical-align: top;\n",
              "    }\n",
              "\n",
              "    .dataframe thead th {\n",
              "        text-align: right;\n",
              "    }\n",
              "</style>\n",
              "<table border=\"1\" class=\"dataframe\">\n",
              "  <thead>\n",
              "    <tr style=\"text-align: right;\">\n",
              "      <th></th>\n",
              "      <th>State</th>\n",
              "      <th>ISO 3166-2:IN</th>\n",
              "      <th>Vehiclecode</th>\n",
              "      <th>Zone</th>\n",
              "      <th>Capital</th>\n",
              "      <th>Largest city</th>\n",
              "      <th>Statehood</th>\n",
              "      <th>Population(census 2011)[citation needed]</th>\n",
              "      <th>Area(km2)</th>\n",
              "      <th>Officiallanguages[39]</th>\n",
              "      <th>Additional officiallanguages[39]</th>\n",
              "    </tr>\n",
              "  </thead>\n",
              "  <tbody>\n",
              "    <tr>\n",
              "      <th>0</th>\n",
              "      <td>Andhra Pradesh</td>\n",
              "      <td>IN-AP</td>\n",
              "      <td>AP</td>\n",
              "      <td>Southern</td>\n",
              "      <td>Visakhapatnam (Administrative)[40]Amaravati (L...</td>\n",
              "      <td>Visakhapatnam</td>\n",
              "      <td>1 November 1956</td>\n",
              "      <td>49506799</td>\n",
              "      <td>160205</td>\n",
              "      <td>Telugu</td>\n",
              "      <td>—</td>\n",
              "    </tr>\n",
              "    <tr>\n",
              "      <th>1</th>\n",
              "      <td>Arunachal Pradesh</td>\n",
              "      <td>IN-AR</td>\n",
              "      <td>AR</td>\n",
              "      <td>North-Eastern</td>\n",
              "      <td>Itanagar</td>\n",
              "      <td>Itanagar</td>\n",
              "      <td>20 February 1987</td>\n",
              "      <td>1383727</td>\n",
              "      <td>83743</td>\n",
              "      <td>English</td>\n",
              "      <td>—</td>\n",
              "    </tr>\n",
              "    <tr>\n",
              "      <th>2</th>\n",
              "      <td>Assam</td>\n",
              "      <td>IN-AS</td>\n",
              "      <td>AS</td>\n",
              "      <td>North-Eastern</td>\n",
              "      <td>Dispur</td>\n",
              "      <td>Guwahati</td>\n",
              "      <td>26 January 1950</td>\n",
              "      <td>31205576</td>\n",
              "      <td>78550</td>\n",
              "      <td>Assamese</td>\n",
              "      <td>Bengali, Bodo</td>\n",
              "    </tr>\n",
              "    <tr>\n",
              "      <th>3</th>\n",
              "      <td>Bihar</td>\n",
              "      <td>IN-BR</td>\n",
              "      <td>BR</td>\n",
              "      <td>Eastern</td>\n",
              "      <td>Patna</td>\n",
              "      <td>Patna</td>\n",
              "      <td>26 January 1950</td>\n",
              "      <td>104099452</td>\n",
              "      <td>94163</td>\n",
              "      <td>Hindi</td>\n",
              "      <td>Urdu</td>\n",
              "    </tr>\n",
              "    <tr>\n",
              "      <th>4</th>\n",
              "      <td>Chhattisgarh</td>\n",
              "      <td>IN-CT</td>\n",
              "      <td>CG</td>\n",
              "      <td>Central</td>\n",
              "      <td>Nava Raipur</td>\n",
              "      <td>Raipur</td>\n",
              "      <td>1 November 2000</td>\n",
              "      <td>25545198</td>\n",
              "      <td>135194</td>\n",
              "      <td>Hindi</td>\n",
              "      <td>Chhattisgarhi</td>\n",
              "    </tr>\n",
              "    <tr>\n",
              "      <th>5</th>\n",
              "      <td>Goa</td>\n",
              "      <td>IN-GA</td>\n",
              "      <td>GA</td>\n",
              "      <td>Western</td>\n",
              "      <td>Panaji</td>\n",
              "      <td>Vasco da Gama</td>\n",
              "      <td>30 May 1987</td>\n",
              "      <td>1458545</td>\n",
              "      <td>3702</td>\n",
              "      <td>Konkani</td>\n",
              "      <td>Marathi</td>\n",
              "    </tr>\n",
              "    <tr>\n",
              "      <th>6</th>\n",
              "      <td>Gujarat</td>\n",
              "      <td>IN-GJ</td>\n",
              "      <td>GJ</td>\n",
              "      <td>Western</td>\n",
              "      <td>Gandhinagar</td>\n",
              "      <td>Ahmedabad</td>\n",
              "      <td>1 May 1960</td>\n",
              "      <td>60439692</td>\n",
              "      <td>196024</td>\n",
              "      <td>Gujarati</td>\n",
              "      <td>—</td>\n",
              "    </tr>\n",
              "    <tr>\n",
              "      <th>7</th>\n",
              "      <td>Haryana</td>\n",
              "      <td>IN-HR</td>\n",
              "      <td>HR</td>\n",
              "      <td>Northern</td>\n",
              "      <td>Chandigarh</td>\n",
              "      <td>Faridabad</td>\n",
              "      <td>1 November 1966</td>\n",
              "      <td>25351462</td>\n",
              "      <td>44212</td>\n",
              "      <td>Hindi</td>\n",
              "      <td>Punjabi[41][42]</td>\n",
              "    </tr>\n",
              "    <tr>\n",
              "      <th>8</th>\n",
              "      <td>Himachal Pradesh</td>\n",
              "      <td>IN-HP</td>\n",
              "      <td>HP</td>\n",
              "      <td>Northern</td>\n",
              "      <td>Shimla (Summer)Dharamshala (Winter)[43]</td>\n",
              "      <td>Shimla</td>\n",
              "      <td>25 January 1971</td>\n",
              "      <td>6864602</td>\n",
              "      <td>55673</td>\n",
              "      <td>Hindi</td>\n",
              "      <td>Sanskrit[44]</td>\n",
              "    </tr>\n",
              "    <tr>\n",
              "      <th>9</th>\n",
              "      <td>Jharkhand</td>\n",
              "      <td>IN-JH</td>\n",
              "      <td>JH</td>\n",
              "      <td>Eastern</td>\n",
              "      <td>Ranchi</td>\n",
              "      <td>Jamshedpur</td>\n",
              "      <td>15 November 2000</td>\n",
              "      <td>32988134</td>\n",
              "      <td>74677</td>\n",
              "      <td>Hindi</td>\n",
              "      <td>Angika, Bengali, Bhojpuri, Ho, Kharia, Khortha...</td>\n",
              "    </tr>\n",
              "    <tr>\n",
              "      <th>10</th>\n",
              "      <td>Karnataka</td>\n",
              "      <td>IN-KA</td>\n",
              "      <td>KA</td>\n",
              "      <td>Southern</td>\n",
              "      <td>Bengaluru</td>\n",
              "      <td>Bengaluru</td>\n",
              "      <td>1 November 1956</td>\n",
              "      <td>61095297</td>\n",
              "      <td>191791</td>\n",
              "      <td>Kannada</td>\n",
              "      <td>—</td>\n",
              "    </tr>\n",
              "    <tr>\n",
              "      <th>11</th>\n",
              "      <td>Kerala</td>\n",
              "      <td>IN-KL</td>\n",
              "      <td>KL</td>\n",
              "      <td>Southern</td>\n",
              "      <td>Thiruvananthapuram</td>\n",
              "      <td>Thiruvananthapuram</td>\n",
              "      <td>1 November 1956</td>\n",
              "      <td>33406061</td>\n",
              "      <td>38863</td>\n",
              "      <td>Malayalam</td>\n",
              "      <td>English[46]</td>\n",
              "    </tr>\n",
              "    <tr>\n",
              "      <th>12</th>\n",
              "      <td>Madhya Pradesh</td>\n",
              "      <td>IN-MP</td>\n",
              "      <td>MP</td>\n",
              "      <td>Central</td>\n",
              "      <td>Bhopal</td>\n",
              "      <td>Indore</td>\n",
              "      <td>26 January 1950</td>\n",
              "      <td>72626809</td>\n",
              "      <td>308252</td>\n",
              "      <td>Hindi</td>\n",
              "      <td>—</td>\n",
              "    </tr>\n",
              "    <tr>\n",
              "      <th>13</th>\n",
              "      <td>Maharashtra</td>\n",
              "      <td>IN-MH</td>\n",
              "      <td>MH</td>\n",
              "      <td>Western</td>\n",
              "      <td>Mumbai (Summer)Nagpur (Winter)[47]</td>\n",
              "      <td>Mumbai</td>\n",
              "      <td>1 May 1960</td>\n",
              "      <td>112374333</td>\n",
              "      <td>307713</td>\n",
              "      <td>Marathi</td>\n",
              "      <td>—</td>\n",
              "    </tr>\n",
              "    <tr>\n",
              "      <th>14</th>\n",
              "      <td>Manipur</td>\n",
              "      <td>IN-MN</td>\n",
              "      <td>MN</td>\n",
              "      <td>North-Eastern</td>\n",
              "      <td>Imphal</td>\n",
              "      <td>Imphal</td>\n",
              "      <td>21 January 1972</td>\n",
              "      <td>2855794</td>\n",
              "      <td>22347</td>\n",
              "      <td>Meitei</td>\n",
              "      <td>English</td>\n",
              "    </tr>\n",
              "    <tr>\n",
              "      <th>15</th>\n",
              "      <td>Meghalaya</td>\n",
              "      <td>IN-ML</td>\n",
              "      <td>ML</td>\n",
              "      <td>North-Eastern</td>\n",
              "      <td>Shillong</td>\n",
              "      <td>Shillong</td>\n",
              "      <td>21 January 1972</td>\n",
              "      <td>2966889</td>\n",
              "      <td>22720</td>\n",
              "      <td>English</td>\n",
              "      <td>Khasi[a]</td>\n",
              "    </tr>\n",
              "    <tr>\n",
              "      <th>16</th>\n",
              "      <td>Mizoram</td>\n",
              "      <td>IN-MZ</td>\n",
              "      <td>MZ</td>\n",
              "      <td>North-Eastern</td>\n",
              "      <td>Aizawl</td>\n",
              "      <td>Aizawl</td>\n",
              "      <td>20 February 1987</td>\n",
              "      <td>1097206</td>\n",
              "      <td>21081</td>\n",
              "      <td>English, Hindi, Mizo</td>\n",
              "      <td>—</td>\n",
              "    </tr>\n",
              "    <tr>\n",
              "      <th>17</th>\n",
              "      <td>Nagaland</td>\n",
              "      <td>IN-NL</td>\n",
              "      <td>NL</td>\n",
              "      <td>North-Eastern</td>\n",
              "      <td>Kohima</td>\n",
              "      <td>Dimapur</td>\n",
              "      <td>1 December 1963</td>\n",
              "      <td>1978502</td>\n",
              "      <td>16579</td>\n",
              "      <td>English</td>\n",
              "      <td>—</td>\n",
              "    </tr>\n",
              "    <tr>\n",
              "      <th>18</th>\n",
              "      <td>Odisha</td>\n",
              "      <td>IN-OR</td>\n",
              "      <td>OD</td>\n",
              "      <td>Eastern</td>\n",
              "      <td>Bhubaneswar</td>\n",
              "      <td>Bhubaneswar</td>\n",
              "      <td>26 January 1950</td>\n",
              "      <td>41974218</td>\n",
              "      <td>155820</td>\n",
              "      <td>Odia</td>\n",
              "      <td>—</td>\n",
              "    </tr>\n",
              "    <tr>\n",
              "      <th>19</th>\n",
              "      <td>Punjab</td>\n",
              "      <td>IN-PB</td>\n",
              "      <td>PB</td>\n",
              "      <td>Northern</td>\n",
              "      <td>Chandigarh</td>\n",
              "      <td>Ludhiana</td>\n",
              "      <td>1 November 1966</td>\n",
              "      <td>27743338</td>\n",
              "      <td>50362</td>\n",
              "      <td>Punjabi</td>\n",
              "      <td>—</td>\n",
              "    </tr>\n",
              "    <tr>\n",
              "      <th>20</th>\n",
              "      <td>Rajasthan</td>\n",
              "      <td>IN-RJ</td>\n",
              "      <td>RJ</td>\n",
              "      <td>Northern</td>\n",
              "      <td>Jaipur</td>\n",
              "      <td>Jaipur</td>\n",
              "      <td>26 January 1950</td>\n",
              "      <td>68548437</td>\n",
              "      <td>342269</td>\n",
              "      <td>Hindi</td>\n",
              "      <td>English</td>\n",
              "    </tr>\n",
              "    <tr>\n",
              "      <th>21</th>\n",
              "      <td>Sikkim</td>\n",
              "      <td>IN-SK</td>\n",
              "      <td>SK</td>\n",
              "      <td>North-Eastern</td>\n",
              "      <td>Gangtok</td>\n",
              "      <td>Gangtok</td>\n",
              "      <td>16 May 1975</td>\n",
              "      <td>610577</td>\n",
              "      <td>7096</td>\n",
              "      <td>English, Nepali</td>\n",
              "      <td>Bhutia, Gurung, Lepcha, Limbu, Manggar, Mukhia...</td>\n",
              "    </tr>\n",
              "    <tr>\n",
              "      <th>22</th>\n",
              "      <td>Tamil Nadu</td>\n",
              "      <td>IN-TN</td>\n",
              "      <td>TN</td>\n",
              "      <td>Southern</td>\n",
              "      <td>Chennai</td>\n",
              "      <td>Chennai</td>\n",
              "      <td>1 November 1956</td>\n",
              "      <td>72147030</td>\n",
              "      <td>130058</td>\n",
              "      <td>Tamil</td>\n",
              "      <td>English</td>\n",
              "    </tr>\n",
              "    <tr>\n",
              "      <th>23</th>\n",
              "      <td>Telangana</td>\n",
              "      <td>IN-TG</td>\n",
              "      <td>TS</td>\n",
              "      <td>Southern</td>\n",
              "      <td>Hyderabad[b]</td>\n",
              "      <td>Hyderabad[b]</td>\n",
              "      <td>2 June 2014</td>\n",
              "      <td>35,193,978[48]</td>\n",
              "      <td>114,840[48]</td>\n",
              "      <td>Telugu</td>\n",
              "      <td>Urdu[49]</td>\n",
              "    </tr>\n",
              "    <tr>\n",
              "      <th>24</th>\n",
              "      <td>Tripura</td>\n",
              "      <td>IN-TR</td>\n",
              "      <td>TR</td>\n",
              "      <td>North-Eastern</td>\n",
              "      <td>Agartala</td>\n",
              "      <td>Agartala</td>\n",
              "      <td>21 January 1972</td>\n",
              "      <td>3673917</td>\n",
              "      <td>10492</td>\n",
              "      <td>Bengali, English, Kokborok</td>\n",
              "      <td>—</td>\n",
              "    </tr>\n",
              "    <tr>\n",
              "      <th>25</th>\n",
              "      <td>Uttar Pradesh</td>\n",
              "      <td>IN-UP</td>\n",
              "      <td>UP</td>\n",
              "      <td>Central</td>\n",
              "      <td>Lucknow</td>\n",
              "      <td>Kanpur</td>\n",
              "      <td>26 January 1950</td>\n",
              "      <td>199812341</td>\n",
              "      <td>243286</td>\n",
              "      <td>Hindi</td>\n",
              "      <td>Urdu</td>\n",
              "    </tr>\n",
              "    <tr>\n",
              "      <th>26</th>\n",
              "      <td>Uttarakhand</td>\n",
              "      <td>IN-UT</td>\n",
              "      <td>UK</td>\n",
              "      <td>Central</td>\n",
              "      <td>Gairsain (Summer)Dehradun (Winter)[50]</td>\n",
              "      <td>Dehradun</td>\n",
              "      <td>9 November 2000</td>\n",
              "      <td>10086292</td>\n",
              "      <td>53483</td>\n",
              "      <td>Hindi</td>\n",
              "      <td>Sanskrit[51]</td>\n",
              "    </tr>\n",
              "    <tr>\n",
              "      <th>27</th>\n",
              "      <td>West Bengal</td>\n",
              "      <td>IN-WB</td>\n",
              "      <td>WB</td>\n",
              "      <td>Eastern</td>\n",
              "      <td>Kolkata</td>\n",
              "      <td>Kolkata</td>\n",
              "      <td>26 January 1950</td>\n",
              "      <td>91276115</td>\n",
              "      <td>88752</td>\n",
              "      <td>Bengali, Nepali[c]</td>\n",
              "      <td>Hindi, Odia, Telugu, Punjabi, Santali, Urdu</td>\n",
              "    </tr>\n",
              "  </tbody>\n",
              "</table>\n",
              "</div>"
            ],
            "text/plain": [
              "                State  ...                   Additional officiallanguages[39]\n",
              "0      Andhra Pradesh  ...                                                  —\n",
              "1   Arunachal Pradesh  ...                                                  —\n",
              "2               Assam  ...                                      Bengali, Bodo\n",
              "3               Bihar  ...                                               Urdu\n",
              "4        Chhattisgarh  ...                                      Chhattisgarhi\n",
              "5                 Goa  ...                                            Marathi\n",
              "6             Gujarat  ...                                                  —\n",
              "7             Haryana  ...                                    Punjabi[41][42]\n",
              "8    Himachal Pradesh  ...                                       Sanskrit[44]\n",
              "9           Jharkhand  ...  Angika, Bengali, Bhojpuri, Ho, Kharia, Khortha...\n",
              "10          Karnataka  ...                                                  —\n",
              "11             Kerala  ...                                        English[46]\n",
              "12     Madhya Pradesh  ...                                                  —\n",
              "13        Maharashtra  ...                                                  —\n",
              "14            Manipur  ...                                            English\n",
              "15          Meghalaya  ...                                           Khasi[a]\n",
              "16            Mizoram  ...                                                  —\n",
              "17           Nagaland  ...                                                  —\n",
              "18             Odisha  ...                                                  —\n",
              "19             Punjab  ...                                                  —\n",
              "20          Rajasthan  ...                                            English\n",
              "21             Sikkim  ...  Bhutia, Gurung, Lepcha, Limbu, Manggar, Mukhia...\n",
              "22         Tamil Nadu  ...                                            English\n",
              "23          Telangana  ...                                           Urdu[49]\n",
              "24            Tripura  ...                                                  —\n",
              "25      Uttar Pradesh  ...                                               Urdu\n",
              "26        Uttarakhand  ...                                       Sanskrit[51]\n",
              "27        West Bengal  ...        Hindi, Odia, Telugu, Punjabi, Santali, Urdu\n",
              "\n",
              "[28 rows x 11 columns]"
            ]
          },
          "metadata": {
            "tags": []
          },
          "execution_count": 67
        }
      ]
    },
    {
      "cell_type": "code",
      "metadata": {
        "colab": {
          "base_uri": "https://localhost:8080/",
          "height": 142
        },
        "id": "p_yB5E2JQ0XF",
        "outputId": "98dbeb0e-492b-4664-d720-af537fd37c2a"
      },
      "source": [
        "excel.head()"
      ],
      "execution_count": 68,
      "outputs": [
        {
          "output_type": "execute_result",
          "data": {
            "text/html": [
              "<div>\n",
              "<style scoped>\n",
              "    .dataframe tbody tr th:only-of-type {\n",
              "        vertical-align: middle;\n",
              "    }\n",
              "\n",
              "    .dataframe tbody tr th {\n",
              "        vertical-align: top;\n",
              "    }\n",
              "\n",
              "    .dataframe thead th {\n",
              "        text-align: right;\n",
              "    }\n",
              "</style>\n",
              "<table border=\"1\" class=\"dataframe\">\n",
              "  <thead>\n",
              "    <tr style=\"text-align: right;\">\n",
              "      <th></th>\n",
              "      <th>Unnamed: 0</th>\n",
              "      <th>a</th>\n",
              "      <th>b</th>\n",
              "      <th>c</th>\n",
              "      <th>d</th>\n",
              "      <th>message</th>\n",
              "    </tr>\n",
              "  </thead>\n",
              "  <tbody>\n",
              "    <tr>\n",
              "      <th>0</th>\n",
              "      <td>0</td>\n",
              "      <td>1</td>\n",
              "      <td>2</td>\n",
              "      <td>3</td>\n",
              "      <td>4</td>\n",
              "      <td>hello</td>\n",
              "    </tr>\n",
              "    <tr>\n",
              "      <th>1</th>\n",
              "      <td>1</td>\n",
              "      <td>5</td>\n",
              "      <td>6</td>\n",
              "      <td>7</td>\n",
              "      <td>8</td>\n",
              "      <td>world</td>\n",
              "    </tr>\n",
              "    <tr>\n",
              "      <th>2</th>\n",
              "      <td>2</td>\n",
              "      <td>9</td>\n",
              "      <td>10</td>\n",
              "      <td>11</td>\n",
              "      <td>12</td>\n",
              "      <td>foo</td>\n",
              "    </tr>\n",
              "  </tbody>\n",
              "</table>\n",
              "</div>"
            ],
            "text/plain": [
              "   Unnamed: 0  a   b   c   d message\n",
              "0           0  1   2   3   4   hello\n",
              "1           1  5   6   7   8   world\n",
              "2           2  9  10  11  12     foo"
            ]
          },
          "metadata": {
            "tags": []
          },
          "execution_count": 68
        }
      ]
    },
    {
      "cell_type": "code",
      "metadata": {
        "id": "p9Qg8d3aQ9X0"
      },
      "source": [
        ""
      ],
      "execution_count": null,
      "outputs": []
    }
  ]
}