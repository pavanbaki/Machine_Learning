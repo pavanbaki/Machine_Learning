{
  "nbformat": 4,
  "nbformat_minor": 0,
  "metadata": {
    "colab": {
      "name": "Numpy.ipynb",
      "provenance": [],
      "authorship_tag": "ABX9TyOLO+5nFGeHB9OrhKT+yEhi",
      "include_colab_link": true
    },
    "kernelspec": {
      "name": "python3",
      "display_name": "Python 3"
    },
    "language_info": {
      "name": "python"
    }
  },
  "cells": [
    {
      "cell_type": "markdown",
      "metadata": {
        "id": "view-in-github",
        "colab_type": "text"
      },
      "source": [
        "<a href=\"https://colab.research.google.com/github/pavanbaki/Machine_Learning/blob/main/Numpy.ipynb\" target=\"_parent\"><img src=\"https://colab.research.google.com/assets/colab-badge.svg\" alt=\"Open In Colab\"/></a>"
      ]
    },
    {
      "cell_type": "code",
      "metadata": {
        "id": "abANBnaX2hEx"
      },
      "source": [
        ""
      ],
      "execution_count": null,
      "outputs": []
    },
    {
      "cell_type": "markdown",
      "metadata": {
        "id": "A7Pk_UoN2nxn"
      },
      "source": [
        "# Numpy"
      ]
    },
    {
      "cell_type": "code",
      "metadata": {
        "colab": {
          "base_uri": "https://localhost:8080/"
        },
        "id": "lXWsRw642sMp",
        "outputId": "64119e5d-4790-47c8-b6ca-6818cb2f3e7a"
      },
      "source": [
        "# Is for mathematical operations\n",
        "\n",
        "import numpy as np\n",
        "\n",
        "a = [1,2,3,4]\n",
        "\n",
        "arr1 = np.array(a)\n",
        "\n",
        "b=[[1,2,3,4],[5,6,7,8]]\n",
        "\n",
        "arr2 = np.array(b)\n",
        "\n",
        "print(arr1)\n",
        "print(arr2)"
      ],
      "execution_count": 1,
      "outputs": [
        {
          "output_type": "stream",
          "text": [
            "[1 2 3 4]\n",
            "[[1 2 3 4]\n",
            " [5 6 7 8]]\n"
          ],
          "name": "stdout"
        }
      ]
    },
    {
      "cell_type": "code",
      "metadata": {
        "colab": {
          "base_uri": "https://localhost:8080/"
        },
        "id": "fx7NkfkZ2vhv",
        "outputId": "ac691dd1-f86e-408a-f1c4-f7e8e9d74f81"
      },
      "source": [
        "print(type(a),\n",
        "      type(arr1),\n",
        "      type(b),\n",
        "      type(arr2))"
      ],
      "execution_count": 2,
      "outputs": [
        {
          "output_type": "stream",
          "text": [
            "<class 'list'> <class 'numpy.ndarray'> <class 'list'> <class 'numpy.ndarray'>\n"
          ],
          "name": "stdout"
        }
      ]
    },
    {
      "cell_type": "code",
      "metadata": {
        "colab": {
          "base_uri": "https://localhost:8080/"
        },
        "id": "j2Fg_ErF20xK",
        "outputId": "11bf84d6-af01-4549-f4fa-1fd5c65b8adf"
      },
      "source": [
        "import sys\n",
        "\n",
        "s= range(1000)\n",
        "\n",
        "print(\"Size of each element in the list in bytes\",sys.getsizeof(s))\n",
        "\n",
        "print(\"complete list size in bytes\",sys.getsizeof(s) * len(s))"
      ],
      "execution_count": 3,
      "outputs": [
        {
          "output_type": "stream",
          "text": [
            "Size of each element in the list in bytes 48\n",
            "complete list size in bytes 48000\n"
          ],
          "name": "stdout"
        }
      ]
    },
    {
      "cell_type": "code",
      "metadata": {
        "colab": {
          "base_uri": "https://localhost:8080/"
        },
        "id": "0qE5VjOM25bD",
        "outputId": "6faefdc1-8b0d-4bb2-c3f1-5cce6d79f98b"
      },
      "source": [
        "# we are checking comparission between numpy size and normal size of \"sys\" packages\n",
        "\n",
        "import numpy as np\n",
        "\n",
        "s = np.arange(1000)\n",
        "\n",
        "print(\"Size of each element in the list in bytes\",s.itemsize)\n",
        "\n",
        "print(\"Complete size in bytes \",s.size *s.itemsize)"
      ],
      "execution_count": 4,
      "outputs": [
        {
          "output_type": "stream",
          "text": [
            "Size of each element in the list in bytes 8\n",
            "Complete size in bytes  8000\n"
          ],
          "name": "stdout"
        }
      ]
    },
    {
      "cell_type": "code",
      "metadata": {
        "colab": {
          "base_uri": "https://localhost:8080/"
        },
        "id": "8K6xqQZy3BmJ",
        "outputId": "65020622-9ad6-4866-cc1e-68d9c72f7749"
      },
      "source": [
        "# import time library and make excution time taking by the system\n",
        "\n",
        "import time\n",
        "\n",
        "a=range(1000) #[0-999]\n",
        "\n",
        "b=range(1000) #[0-999]\n",
        "\n",
        "start = time.time()\n",
        "ab = [(a * b) for a , b in zip(a,b)] # list compression\n",
        "\n",
        "# creating a concised form of complete list and for loop or any other conditions statements\n",
        "\n",
        "end = time.time()\n",
        "\n",
        "print(\"Total time taken\",end-start)"
      ],
      "execution_count": 9,
      "outputs": [
        {
          "output_type": "stream",
          "text": [
            "Total time taken 0.00035262107849121094\n"
          ],
          "name": "stdout"
        }
      ]
    },
    {
      "cell_type": "code",
      "metadata": {
        "colab": {
          "base_uri": "https://localhost:8080/"
        },
        "id": "PqJPjPd13GNJ",
        "outputId": "8e75c187-71a3-4f2b-8cab-1791a86739ee"
      },
      "source": [
        "import numpy\n",
        "import time\n",
        "\n",
        "arr1 = np.arange(1000)\n",
        "arr2 = np.arange(1000)\n",
        "\n",
        "start = time.time()\n",
        "\n",
        "arr_mul = arr1 * arr2\n",
        "\n",
        "end =time.time()\n",
        "print(\"Total time taken \",end-start)\n"
      ],
      "execution_count": 10,
      "outputs": [
        {
          "output_type": "stream",
          "text": [
            "Total time taken  7.963180541992188e-05\n"
          ],
          "name": "stdout"
        }
      ]
    },
    {
      "cell_type": "code",
      "metadata": {
        "colab": {
          "base_uri": "https://localhost:8080/"
        },
        "id": "3LMIY40z3MSB",
        "outputId": "8d5e1b4f-eb4b-4a18-f108-57d25f46a0a4"
      },
      "source": [
        "lst = [1,2,3]\n",
        "arr= np.array(lst)\n",
        "\n",
        "print(arr)"
      ],
      "execution_count": 11,
      "outputs": [
        {
          "output_type": "stream",
          "text": [
            "[1 2 3]\n"
          ],
          "name": "stdout"
        }
      ]
    },
    {
      "cell_type": "code",
      "metadata": {
        "colab": {
          "base_uri": "https://localhost:8080/",
          "height": 163
        },
        "id": "K8TIvq053VSv",
        "outputId": "7aeee110-bec6-458f-adc9-28011bd63665"
      },
      "source": [
        "print(last + 1 )"
      ],
      "execution_count": 12,
      "outputs": [
        {
          "output_type": "error",
          "ename": "NameError",
          "evalue": "ignored",
          "traceback": [
            "\u001b[0;31m---------------------------------------------------------------------------\u001b[0m",
            "\u001b[0;31mNameError\u001b[0m                                 Traceback (most recent call last)",
            "\u001b[0;32m<ipython-input-12-4fee7562dfa7>\u001b[0m in \u001b[0;36m<module>\u001b[0;34m()\u001b[0m\n\u001b[0;32m----> 1\u001b[0;31m \u001b[0mprint\u001b[0m\u001b[0;34m(\u001b[0m\u001b[0mlast\u001b[0m \u001b[0;34m+\u001b[0m \u001b[0;36m1\u001b[0m \u001b[0;34m)\u001b[0m\u001b[0;34m\u001b[0m\u001b[0;34m\u001b[0m\u001b[0m\n\u001b[0m",
            "\u001b[0;31mNameError\u001b[0m: name 'last' is not defined"
          ]
        }
      ]
    },
    {
      "cell_type": "code",
      "metadata": {
        "colab": {
          "base_uri": "https://localhost:8080/"
        },
        "id": "ypnL0f643ZlM",
        "outputId": "979160ff-952a-4e30-aa69-ab64109c0f15"
      },
      "source": [
        "print(arr +1)"
      ],
      "execution_count": 13,
      "outputs": [
        {
          "output_type": "stream",
          "text": [
            "[2 3 4]\n"
          ],
          "name": "stdout"
        }
      ]
    },
    {
      "cell_type": "code",
      "metadata": {
        "colab": {
          "base_uri": "https://localhost:8080/"
        },
        "id": "3zh0Ljrz3ciI",
        "outputId": "668ab58d-47bd-4bf3-a2e1-585f105866d9"
      },
      "source": [
        "arr1 =np.array([[1,2,3,4],[5,6,7,8]],ndmin = 2)\n",
        "print(arr1)"
      ],
      "execution_count": 14,
      "outputs": [
        {
          "output_type": "stream",
          "text": [
            "[[1 2 3 4]\n",
            " [5 6 7 8]]\n"
          ],
          "name": "stdout"
        }
      ]
    },
    {
      "cell_type": "code",
      "metadata": {
        "id": "t01kLozt3fpz"
      },
      "source": [
        ""
      ],
      "execution_count": null,
      "outputs": []
    }
  ]
}