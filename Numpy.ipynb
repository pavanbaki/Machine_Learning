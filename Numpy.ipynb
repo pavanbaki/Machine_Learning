{
  "nbformat": 4,
  "nbformat_minor": 0,
  "metadata": {
    "colab": {
      "name": "Numpy.ipynb",
      "provenance": [],
      "collapsed_sections": [],
      "authorship_tag": "ABX9TyPXehBv4KtDq8afAsD+xUBV",
      "include_colab_link": true
    },
    "kernelspec": {
      "name": "python3",
      "display_name": "Python 3"
    },
    "language_info": {
      "name": "python"
    }
  },
  "cells": [
    {
      "cell_type": "markdown",
      "metadata": {
        "id": "view-in-github",
        "colab_type": "text"
      },
      "source": [
        "<a href=\"https://colab.research.google.com/github/pavanbaki/Machine_Learning/blob/main/Numpy.ipynb\" target=\"_parent\"><img src=\"https://colab.research.google.com/assets/colab-badge.svg\" alt=\"Open In Colab\"/></a>"
      ]
    },
    {
      "cell_type": "code",
      "metadata": {
        "id": "abANBnaX2hEx"
      },
      "source": [
        ""
      ],
      "execution_count": null,
      "outputs": []
    },
    {
      "cell_type": "markdown",
      "metadata": {
        "id": "A7Pk_UoN2nxn"
      },
      "source": [
        "# Numpy"
      ]
    },
    {
      "cell_type": "code",
      "metadata": {
        "colab": {
          "base_uri": "https://localhost:8080/"
        },
        "id": "lXWsRw642sMp",
        "outputId": "64119e5d-4790-47c8-b6ca-6818cb2f3e7a"
      },
      "source": [
        "# Is for mathematical operations\n",
        "\n",
        "import numpy as np\n",
        "\n",
        "a = [1,2,3,4]\n",
        "\n",
        "arr1 = np.array(a)\n",
        "\n",
        "b=[[1,2,3,4],[5,6,7,8]]\n",
        "\n",
        "arr2 = np.array(b)\n",
        "\n",
        "print(arr1)\n",
        "print(arr2)"
      ],
      "execution_count": null,
      "outputs": [
        {
          "output_type": "stream",
          "text": [
            "[1 2 3 4]\n",
            "[[1 2 3 4]\n",
            " [5 6 7 8]]\n"
          ],
          "name": "stdout"
        }
      ]
    },
    {
      "cell_type": "code",
      "metadata": {
        "colab": {
          "base_uri": "https://localhost:8080/"
        },
        "id": "fx7NkfkZ2vhv",
        "outputId": "ac691dd1-f86e-408a-f1c4-f7e8e9d74f81"
      },
      "source": [
        "print(type(a),\n",
        "      type(arr1),\n",
        "      type(b),\n",
        "      type(arr2))"
      ],
      "execution_count": null,
      "outputs": [
        {
          "output_type": "stream",
          "text": [
            "<class 'list'> <class 'numpy.ndarray'> <class 'list'> <class 'numpy.ndarray'>\n"
          ],
          "name": "stdout"
        }
      ]
    },
    {
      "cell_type": "code",
      "metadata": {
        "colab": {
          "base_uri": "https://localhost:8080/"
        },
        "id": "j2Fg_ErF20xK",
        "outputId": "11bf84d6-af01-4549-f4fa-1fd5c65b8adf"
      },
      "source": [
        "import sys\n",
        "\n",
        "s= range(1000)\n",
        "\n",
        "print(\"Size of each element in the list in bytes\",sys.getsizeof(s))\n",
        "\n",
        "print(\"complete list size in bytes\",sys.getsizeof(s) * len(s))"
      ],
      "execution_count": null,
      "outputs": [
        {
          "output_type": "stream",
          "text": [
            "Size of each element in the list in bytes 48\n",
            "complete list size in bytes 48000\n"
          ],
          "name": "stdout"
        }
      ]
    },
    {
      "cell_type": "code",
      "metadata": {
        "colab": {
          "base_uri": "https://localhost:8080/"
        },
        "id": "0qE5VjOM25bD",
        "outputId": "6faefdc1-8b0d-4bb2-c3f1-5cce6d79f98b"
      },
      "source": [
        "# we are checking comparission between numpy size and normal size of \"sys\" packages\n",
        "\n",
        "import numpy as np\n",
        "\n",
        "s = np.arange(1000)\n",
        "\n",
        "print(\"Size of each element in the list in bytes\",s.itemsize)\n",
        "\n",
        "print(\"Complete size in bytes \",s.size *s.itemsize)"
      ],
      "execution_count": null,
      "outputs": [
        {
          "output_type": "stream",
          "text": [
            "Size of each element in the list in bytes 8\n",
            "Complete size in bytes  8000\n"
          ],
          "name": "stdout"
        }
      ]
    },
    {
      "cell_type": "code",
      "metadata": {
        "colab": {
          "base_uri": "https://localhost:8080/"
        },
        "id": "8K6xqQZy3BmJ",
        "outputId": "65020622-9ad6-4866-cc1e-68d9c72f7749"
      },
      "source": [
        "# import time library and make excution time taking by the system\n",
        "\n",
        "import time\n",
        "\n",
        "a=range(1000) #[0-999]\n",
        "\n",
        "b=range(1000) #[0-999]\n",
        "\n",
        "start = time.time()\n",
        "ab = [(a * b) for a , b in zip(a,b)] # list compression\n",
        "\n",
        "# creating a concised form of complete list and for loop or any other conditions statements\n",
        "\n",
        "end = time.time()\n",
        "\n",
        "print(\"Total time taken\",end-start)"
      ],
      "execution_count": null,
      "outputs": [
        {
          "output_type": "stream",
          "text": [
            "Total time taken 0.00035262107849121094\n"
          ],
          "name": "stdout"
        }
      ]
    },
    {
      "cell_type": "code",
      "metadata": {
        "colab": {
          "base_uri": "https://localhost:8080/"
        },
        "id": "PqJPjPd13GNJ",
        "outputId": "8e75c187-71a3-4f2b-8cab-1791a86739ee"
      },
      "source": [
        "import numpy\n",
        "import time\n",
        "\n",
        "arr1 = np.arange(1000)\n",
        "arr2 = np.arange(1000)\n",
        "\n",
        "start = time.time()\n",
        "\n",
        "arr_mul = arr1 * arr2\n",
        "\n",
        "end =time.time()\n",
        "print(\"Total time taken \",end-start)\n"
      ],
      "execution_count": null,
      "outputs": [
        {
          "output_type": "stream",
          "text": [
            "Total time taken  7.963180541992188e-05\n"
          ],
          "name": "stdout"
        }
      ]
    },
    {
      "cell_type": "code",
      "metadata": {
        "colab": {
          "base_uri": "https://localhost:8080/"
        },
        "id": "3LMIY40z3MSB",
        "outputId": "8d5e1b4f-eb4b-4a18-f108-57d25f46a0a4"
      },
      "source": [
        "lst = [1,2,3]\n",
        "arr= np.array(lst)\n",
        "\n",
        "print(arr)"
      ],
      "execution_count": null,
      "outputs": [
        {
          "output_type": "stream",
          "text": [
            "[1 2 3]\n"
          ],
          "name": "stdout"
        }
      ]
    },
    {
      "cell_type": "code",
      "metadata": {
        "colab": {
          "base_uri": "https://localhost:8080/",
          "height": 163
        },
        "id": "K8TIvq053VSv",
        "outputId": "7aeee110-bec6-458f-adc9-28011bd63665"
      },
      "source": [
        "print(last + 1 )"
      ],
      "execution_count": null,
      "outputs": [
        {
          "output_type": "error",
          "ename": "NameError",
          "evalue": "ignored",
          "traceback": [
            "\u001b[0;31m---------------------------------------------------------------------------\u001b[0m",
            "\u001b[0;31mNameError\u001b[0m                                 Traceback (most recent call last)",
            "\u001b[0;32m<ipython-input-12-4fee7562dfa7>\u001b[0m in \u001b[0;36m<module>\u001b[0;34m()\u001b[0m\n\u001b[0;32m----> 1\u001b[0;31m \u001b[0mprint\u001b[0m\u001b[0;34m(\u001b[0m\u001b[0mlast\u001b[0m \u001b[0;34m+\u001b[0m \u001b[0;36m1\u001b[0m \u001b[0;34m)\u001b[0m\u001b[0;34m\u001b[0m\u001b[0;34m\u001b[0m\u001b[0m\n\u001b[0m",
            "\u001b[0;31mNameError\u001b[0m: name 'last' is not defined"
          ]
        }
      ]
    },
    {
      "cell_type": "code",
      "metadata": {
        "colab": {
          "base_uri": "https://localhost:8080/"
        },
        "id": "ypnL0f643ZlM",
        "outputId": "979160ff-952a-4e30-aa69-ab64109c0f15"
      },
      "source": [
        "print(arr +1)"
      ],
      "execution_count": null,
      "outputs": [
        {
          "output_type": "stream",
          "text": [
            "[2 3 4]\n"
          ],
          "name": "stdout"
        }
      ]
    },
    {
      "cell_type": "code",
      "metadata": {
        "colab": {
          "base_uri": "https://localhost:8080/"
        },
        "id": "3zh0Ljrz3ciI",
        "outputId": "668ab58d-47bd-4bf3-a2e1-585f105866d9"
      },
      "source": [
        "arr1 =np.array([[1,2,3,4],[5,6,7,8]],ndmin = 2)\n",
        "print(arr1)"
      ],
      "execution_count": null,
      "outputs": [
        {
          "output_type": "stream",
          "text": [
            "[[1 2 3 4]\n",
            " [5 6 7 8]]\n"
          ],
          "name": "stdout"
        }
      ]
    },
    {
      "cell_type": "code",
      "metadata": {
        "id": "t01kLozt3fpz",
        "colab": {
          "base_uri": "https://localhost:8080/"
        },
        "outputId": "ecdcfad9-7d27-4242-983e-ad381088855d"
      },
      "source": [
        "import numpy as np\n",
        "\n",
        "arr1 = np.array([1,2,3])\n",
        "\n",
        "print(arr1)"
      ],
      "execution_count": null,
      "outputs": [
        {
          "output_type": "stream",
          "text": [
            "[1 2 3]\n"
          ],
          "name": "stdout"
        }
      ]
    },
    {
      "cell_type": "code",
      "metadata": {
        "colab": {
          "base_uri": "https://localhost:8080/"
        },
        "id": "jXFOU6pD8u6N",
        "outputId": "3a4fdbc5-3f5d-4e2e-ca00-f05070cb0101"
      },
      "source": [
        "type(arr1)"
      ],
      "execution_count": null,
      "outputs": [
        {
          "output_type": "execute_result",
          "data": {
            "text/plain": [
              "numpy.ndarray"
            ]
          },
          "metadata": {
            "tags": []
          },
          "execution_count": 5
        }
      ]
    },
    {
      "cell_type": "code",
      "metadata": {
        "colab": {
          "base_uri": "https://localhost:8080/"
        },
        "id": "3tIxtADA8zBV",
        "outputId": "eed8f54e-98e5-409c-972c-0adb92176316"
      },
      "source": [
        "arr2 = np.zeros([2,2])\n",
        "\n",
        "print(arr2)"
      ],
      "execution_count": null,
      "outputs": [
        {
          "output_type": "stream",
          "text": [
            "[[0. 0.]\n",
            " [0. 0.]]\n"
          ],
          "name": "stdout"
        }
      ]
    },
    {
      "cell_type": "code",
      "metadata": {
        "colab": {
          "base_uri": "https://localhost:8080/"
        },
        "id": "D70Opfky9F0G",
        "outputId": "125edf95-d97b-45e0-a09d-db391010ee02"
      },
      "source": [
        "lst1 = [1,2,3,4.52,True,False,2+3j,\"Codegnan\"]\n",
        "\n",
        "print(lst1)"
      ],
      "execution_count": null,
      "outputs": [
        {
          "output_type": "stream",
          "text": [
            "[1, 2, 3, 4.52, True, False, (2+3j), 'Codegnan']\n"
          ],
          "name": "stdout"
        }
      ]
    },
    {
      "cell_type": "code",
      "metadata": {
        "colab": {
          "base_uri": "https://localhost:8080/"
        },
        "id": "arfvJfxN95z8",
        "outputId": "c91d7607-7fbc-4f84-ed8f-e416694e6c5e"
      },
      "source": [
        "type(lst1)"
      ],
      "execution_count": null,
      "outputs": [
        {
          "output_type": "execute_result",
          "data": {
            "text/plain": [
              "list"
            ]
          },
          "metadata": {
            "tags": []
          },
          "execution_count": 9
        }
      ]
    },
    {
      "cell_type": "code",
      "metadata": {
        "id": "to0OO9U69-PY"
      },
      "source": [
        "# 4 differenct type of data structures in python \n",
        "\n",
        "# list - []\n",
        "#Typle -()\n",
        "#Dictionary - {Key - Value}\n",
        "#Set - {Numerical values and unique variables}"
      ],
      "execution_count": null,
      "outputs": []
    },
    {
      "cell_type": "code",
      "metadata": {
        "colab": {
          "base_uri": "https://localhost:8080/"
        },
        "id": "ewdKfaAU-pdE",
        "outputId": "340c54a7-dbb4-49fb-eab4-fa800e4b3efd"
      },
      "source": [
        "# Create an n-dimessional array\n",
        "\n",
        "a = [[1,2,3],[4,5,6]]\n",
        "print(a)"
      ],
      "execution_count": null,
      "outputs": [
        {
          "output_type": "stream",
          "text": [
            "[[1, 2, 3], [4, 5, 6]]\n"
          ],
          "name": "stdout"
        }
      ]
    },
    {
      "cell_type": "code",
      "metadata": {
        "colab": {
          "base_uri": "https://localhost:8080/"
        },
        "id": "bTsUfJBU_Kjh",
        "outputId": "047b397b-ad78-43b4-c1fd-207c6b95d69c"
      },
      "source": [
        "import numpy as np\n",
        "\n",
        "np.array(a,ndmin=10)"
      ],
      "execution_count": null,
      "outputs": [
        {
          "output_type": "execute_result",
          "data": {
            "text/plain": [
              "array([[[[[[[[[[1, 2, 3],\n",
              "               [4, 5, 6]]]]]]]]]])"
            ]
          },
          "metadata": {
            "tags": []
          },
          "execution_count": 13
        }
      ]
    },
    {
      "cell_type": "code",
      "metadata": {
        "id": "eENDnOqV_Un0",
        "colab": {
          "base_uri": "https://localhost:8080/"
        },
        "outputId": "afa8c526-8b43-4961-81ec-e1dab9293366"
      },
      "source": [
        "arr = np.array([[1,2,3],\n",
        "                [4,5,6],\n",
        "                [7,8,9]])\n",
        "\n",
        "print(arr)"
      ],
      "execution_count": 14,
      "outputs": [
        {
          "output_type": "stream",
          "text": [
            "[[1 2 3]\n",
            " [4 5 6]\n",
            " [7 8 9]]\n"
          ],
          "name": "stdout"
        }
      ]
    },
    {
      "cell_type": "code",
      "metadata": {
        "colab": {
          "base_uri": "https://localhost:8080/"
        },
        "id": "QuMmuOp_AH-T",
        "outputId": "75f096d7-f892-4d99-e7dd-c186f39d5871"
      },
      "source": [
        "arr[2,0]"
      ],
      "execution_count": 15,
      "outputs": [
        {
          "output_type": "execute_result",
          "data": {
            "text/plain": [
              "7"
            ]
          },
          "metadata": {
            "tags": []
          },
          "execution_count": 15
        }
      ]
    },
    {
      "cell_type": "code",
      "metadata": {
        "colab": {
          "base_uri": "https://localhost:8080/",
          "height": 163
        },
        "id": "KhBdfcs8AgzO",
        "outputId": "7ec6f1c2-bfb8-422d-d3a4-a7ea7ff6bf5a"
      },
      "source": [
        "arr[3,0]"
      ],
      "execution_count": 16,
      "outputs": [
        {
          "output_type": "error",
          "ename": "IndexError",
          "evalue": "ignored",
          "traceback": [
            "\u001b[0;31m---------------------------------------------------------------------------\u001b[0m",
            "\u001b[0;31mIndexError\u001b[0m                                Traceback (most recent call last)",
            "\u001b[0;32m<ipython-input-16-c69fc7229c50>\u001b[0m in \u001b[0;36m<module>\u001b[0;34m()\u001b[0m\n\u001b[0;32m----> 1\u001b[0;31m \u001b[0marr\u001b[0m\u001b[0;34m[\u001b[0m\u001b[0;36m3\u001b[0m\u001b[0;34m,\u001b[0m\u001b[0;36m0\u001b[0m\u001b[0;34m]\u001b[0m\u001b[0;34m\u001b[0m\u001b[0;34m\u001b[0m\u001b[0m\n\u001b[0m",
            "\u001b[0;31mIndexError\u001b[0m: index 3 is out of bounds for axis 0 with size 3"
          ]
        }
      ]
    },
    {
      "cell_type": "code",
      "metadata": {
        "colab": {
          "base_uri": "https://localhost:8080/",
          "height": 163
        },
        "id": "XgpOLYWFAjBx",
        "outputId": "43bb7e10-872d-4d24-dc56-1cae2bcbe119"
      },
      "source": [
        "np.arange(2,2,0)"
      ],
      "execution_count": 18,
      "outputs": [
        {
          "output_type": "error",
          "ename": "ZeroDivisionError",
          "evalue": "ignored",
          "traceback": [
            "\u001b[0;31m---------------------------------------------------------------------------\u001b[0m",
            "\u001b[0;31mZeroDivisionError\u001b[0m                         Traceback (most recent call last)",
            "\u001b[0;32m<ipython-input-18-1ef4be738fe1>\u001b[0m in \u001b[0;36m<module>\u001b[0;34m()\u001b[0m\n\u001b[0;32m----> 1\u001b[0;31m \u001b[0mnp\u001b[0m\u001b[0;34m.\u001b[0m\u001b[0marange\u001b[0m\u001b[0;34m(\u001b[0m\u001b[0;36m2\u001b[0m\u001b[0;34m,\u001b[0m\u001b[0;36m2\u001b[0m\u001b[0;34m,\u001b[0m\u001b[0;36m0\u001b[0m\u001b[0;34m)\u001b[0m\u001b[0;34m\u001b[0m\u001b[0;34m\u001b[0m\u001b[0m\n\u001b[0m",
            "\u001b[0;31mZeroDivisionError\u001b[0m: division by zero"
          ]
        }
      ]
    },
    {
      "cell_type": "code",
      "metadata": {
        "id": "VogePly9BOwV"
      },
      "source": [
        "#Numpy - Is for mathematical operations. Like creating and manipulating arrays and numbers\n",
        "\n",
        "# Pandas - Is the data handling mechanism and tool. Which can handle the datasets to process into models"
      ],
      "execution_count": 19,
      "outputs": []
    },
    {
      "cell_type": "code",
      "metadata": {
        "colab": {
          "base_uri": "https://localhost:8080/"
        },
        "id": "Cxe0DdreBegI",
        "outputId": "83ed94cc-b5e0-4be8-eff7-5bba3766d73f"
      },
      "source": [
        "np.random.rand(3,2)"
      ],
      "execution_count": 21,
      "outputs": [
        {
          "output_type": "execute_result",
          "data": {
            "text/plain": [
              "array([[0.91661907, 0.69987021],\n",
              "       [0.39459303, 0.6331838 ],\n",
              "       [0.56170162, 0.86709798]])"
            ]
          },
          "metadata": {
            "tags": []
          },
          "execution_count": 21
        }
      ]
    },
    {
      "cell_type": "code",
      "metadata": {
        "colab": {
          "base_uri": "https://localhost:8080/"
        },
        "id": "R96c8J13Bp2e",
        "outputId": "1f08246a-736b-4528-b234-2d663f25388e"
      },
      "source": [
        "arr1 = np.random.rand(3,2)\n",
        "\n",
        "arr2 = np.random.rand(3,2)\n",
        "\n",
        "sum1 = np.add(arr1,arr2)\n",
        "\n",
        "print(arr1)\n",
        "print(arr2)\n",
        "print(sum1)"
      ],
      "execution_count": 23,
      "outputs": [
        {
          "output_type": "stream",
          "text": [
            "[[0.42279156 0.95771089]\n",
            " [0.58431853 0.35047784]\n",
            " [0.44909211 0.5709748 ]]\n",
            "[[0.85751517 0.51615709]\n",
            " [0.7898181  0.37566809]\n",
            " [0.25537759 0.23266874]]\n",
            "[[1.28030672 1.47386797]\n",
            " [1.37413663 0.72614592]\n",
            " [0.7044697  0.80364354]]\n"
          ],
          "name": "stdout"
        }
      ]
    },
    {
      "cell_type": "code",
      "metadata": {
        "colab": {
          "base_uri": "https://localhost:8080/"
        },
        "id": "qOGO-eh6CTNF",
        "outputId": "c600ced4-aa1f-4998-9540-c127c737a2de"
      },
      "source": [
        "sub1 = np.subtract(arr1,arr2)\n",
        "\n",
        "print(sub1)"
      ],
      "execution_count": 25,
      "outputs": [
        {
          "output_type": "stream",
          "text": [
            "[[-0.43472361  0.4415538 ]\n",
            " [-0.20549957 -0.02519025]\n",
            " [ 0.19371452  0.33830605]]\n"
          ],
          "name": "stdout"
        }
      ]
    },
    {
      "cell_type": "code",
      "metadata": {
        "colab": {
          "base_uri": "https://localhost:8080/",
          "height": 35
        },
        "id": "ZT45XTkWDAVV",
        "outputId": "0367021c-e1fa-4d00-bd6a-4e6b9059c5e2"
      },
      "source": [
        "# indexing and slicing\n",
        "\n",
        "a = [1,2,3,7,20.5,\"codegnan\",True]\n",
        "\n",
        "a[5]"
      ],
      "execution_count": 29,
      "outputs": [
        {
          "output_type": "execute_result",
          "data": {
            "application/vnd.google.colaboratory.intrinsic+json": {
              "type": "string"
            },
            "text/plain": [
              "'codegnan'"
            ]
          },
          "metadata": {
            "tags": []
          },
          "execution_count": 29
        }
      ]
    },
    {
      "cell_type": "code",
      "metadata": {
        "colab": {
          "base_uri": "https://localhost:8080/"
        },
        "id": "EVB6zL4pDbCF",
        "outputId": "8405cfca-b7a5-450e-c892-cee082835d66"
      },
      "source": [
        "#slicing  = [start : end+1]\n",
        "\n",
        "a[0:6]\n"
      ],
      "execution_count": 30,
      "outputs": [
        {
          "output_type": "execute_result",
          "data": {
            "text/plain": [
              "[1, 2, 3, 7, 20.5, 'codegnan']"
            ]
          },
          "metadata": {
            "tags": []
          },
          "execution_count": 30
        }
      ]
    },
    {
      "cell_type": "code",
      "metadata": {
        "colab": {
          "base_uri": "https://localhost:8080/"
        },
        "id": "qMCW547eHUai",
        "outputId": "3c84a2c4-c778-4994-e6e5-4e0989fe83b6"
      },
      "source": [
        "a[-1]"
      ],
      "execution_count": 31,
      "outputs": [
        {
          "output_type": "execute_result",
          "data": {
            "text/plain": [
              "True"
            ]
          },
          "metadata": {
            "tags": []
          },
          "execution_count": 31
        }
      ]
    },
    {
      "cell_type": "code",
      "metadata": {
        "colab": {
          "base_uri": "https://localhost:8080/"
        },
        "id": "zMJc-kCIHYJa",
        "outputId": "d5293311-2303-4762-a4cc-2bacde8717f8"
      },
      "source": [
        "a[-3]"
      ],
      "execution_count": 32,
      "outputs": [
        {
          "output_type": "execute_result",
          "data": {
            "text/plain": [
              "20.5"
            ]
          },
          "metadata": {
            "tags": []
          },
          "execution_count": 32
        }
      ]
    },
    {
      "cell_type": "code",
      "metadata": {
        "colab": {
          "base_uri": "https://localhost:8080/"
        },
        "id": "ipVLi3EFHbAn",
        "outputId": "8b6d6360-f289-42e2-ff30-1c28f1c17bc8"
      },
      "source": [
        "a[:5]"
      ],
      "execution_count": 33,
      "outputs": [
        {
          "output_type": "execute_result",
          "data": {
            "text/plain": [
              "[1, 2, 3, 7, 20.5]"
            ]
          },
          "metadata": {
            "tags": []
          },
          "execution_count": 33
        }
      ]
    },
    {
      "cell_type": "code",
      "metadata": {
        "colab": {
          "base_uri": "https://localhost:8080/"
        },
        "id": "rTQjRzH1HfSi",
        "outputId": "8a32b5c6-bb8f-4459-b738-579c81c947e1"
      },
      "source": [
        "a[:-1]"
      ],
      "execution_count": 34,
      "outputs": [
        {
          "output_type": "execute_result",
          "data": {
            "text/plain": [
              "[1, 2, 3, 7, 20.5, 'codegnan']"
            ]
          },
          "metadata": {
            "tags": []
          },
          "execution_count": 34
        }
      ]
    },
    {
      "cell_type": "code",
      "metadata": {
        "colab": {
          "base_uri": "https://localhost:8080/"
        },
        "id": "-diUz5wOHlLo",
        "outputId": "fc93bf6f-fd97-4734-801f-8321808dc783"
      },
      "source": [
        "a[-6:-1]"
      ],
      "execution_count": 35,
      "outputs": [
        {
          "output_type": "execute_result",
          "data": {
            "text/plain": [
              "[2, 3, 7, 20.5, 'codegnan']"
            ]
          },
          "metadata": {
            "tags": []
          },
          "execution_count": 35
        }
      ]
    },
    {
      "cell_type": "code",
      "metadata": {
        "colab": {
          "base_uri": "https://localhost:8080/"
        },
        "id": "kutnjKLJHyMr",
        "outputId": "f07cbc96-14f6-4b92-af94-a73b9a83e0dd"
      },
      "source": [
        "a = [1,2,3,7,20.5,\"codegnan\",True,1,2,3,7,20.5,\"codegnan\",True,1,2,3,7,20.5,\"codegnan\",True,1,2,3,7,20.5,\"codegnan\",True,]\n",
        "\n",
        "a[0:10:2]"
      ],
      "execution_count": 36,
      "outputs": [
        {
          "output_type": "execute_result",
          "data": {
            "text/plain": [
              "[1, 3, 20.5, True, 2]"
            ]
          },
          "metadata": {
            "tags": []
          },
          "execution_count": 36
        }
      ]
    },
    {
      "cell_type": "code",
      "metadata": {
        "id": "k47MPAw6IY7i"
      },
      "source": [
        "a.reverse()"
      ],
      "execution_count": 41,
      "outputs": []
    },
    {
      "cell_type": "code",
      "metadata": {
        "colab": {
          "base_uri": "https://localhost:8080/"
        },
        "id": "4UyV2tzSI8dA",
        "outputId": "4363c719-d479-44ee-b58e-c0d0615320e3"
      },
      "source": [
        "a"
      ],
      "execution_count": 42,
      "outputs": [
        {
          "output_type": "execute_result",
          "data": {
            "text/plain": [
              "[True,\n",
              " 'codegnan',\n",
              " 20.5,\n",
              " 7,\n",
              " 3,\n",
              " 2,\n",
              " 1,\n",
              " True,\n",
              " 'codegnan',\n",
              " 20.5,\n",
              " 7,\n",
              " 3,\n",
              " 2,\n",
              " 1,\n",
              " True,\n",
              " 'codegnan',\n",
              " 20.5,\n",
              " 7,\n",
              " 3,\n",
              " 2,\n",
              " 1,\n",
              " True,\n",
              " 'codegnan',\n",
              " 20.5,\n",
              " 7,\n",
              " 3,\n",
              " 2,\n",
              " 1]"
            ]
          },
          "metadata": {
            "tags": []
          },
          "execution_count": 42
        }
      ]
    },
    {
      "cell_type": "code",
      "metadata": {
        "colab": {
          "base_uri": "https://localhost:8080/"
        },
        "id": "oe1drZ3lJIwk",
        "outputId": "d387b626-b8b8-483a-fbbe-f1d90b9d902a"
      },
      "source": [
        "#The skip value will take start and end+1 variables and we are skipping values in between\n",
        "a = [1,2,5,7,20.5,\"Codegnan\", True,1,2,5,7,20.5,\"Codegnan\", True,1,2,5,7,20.5,\"Codegnan\", True]\n",
        "\n",
        "a[0:10:3]"
      ],
      "execution_count": 43,
      "outputs": [
        {
          "output_type": "execute_result",
          "data": {
            "text/plain": [
              "[1, 7, True, 5]"
            ]
          },
          "metadata": {
            "tags": []
          },
          "execution_count": 43
        }
      ]
    },
    {
      "cell_type": "code",
      "metadata": {
        "id": "oExNFtn4JZ3V"
      },
      "source": [
        ""
      ],
      "execution_count": null,
      "outputs": []
    }
  ]
}